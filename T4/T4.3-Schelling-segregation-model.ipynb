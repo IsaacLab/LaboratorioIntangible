{
 "cells": [
  {
   "cell_type": "markdown",
   "metadata": {},
   "source": [
    "# Schelling segregation model\n",
    "\n",
    "\n",
    "\n",
    "## Exercise"
   ]
  },
  {
   "cell_type": "code",
   "execution_count": 1,
   "metadata": {
    "collapsed": false
   },
   "outputs": [
    {
     "data": {
      "text/html": [
       "<iframe src=\"https://www.openprocessing.org/sketch/437057/embed/\" width=\"500\" height=\"500\"></iframe>"
      ],
      "text/plain": [
       "<IPython.core.display.HTML object>"
      ]
     },
     "metadata": {},
     "output_type": "display_data"
    }
   ],
   "source": [
    "%%HTML\n",
    "<iframe src=\"https://www.openprocessing.org/sketch/437057/embed/\" width=\"500\" height=\"500\"></iframe>"
   ]
  },
  {
   "cell_type": "markdown",
   "metadata": {},
   "source": [
    "## Exercise"
   ]
  },
  {
   "cell_type": "code",
   "execution_count": 44,
   "metadata": {
    "collapsed": false
   },
   "outputs": [
    {
     "data": {
      "text/plain": [
       "<matplotlib.figure.Figure at 0x7f1e7c2c2320>"
      ]
     },
     "metadata": {},
     "output_type": "display_data"
    },
    {
     "data": {
      "image/png": "[encoded data removed]",
      "text/plain": [
       "<matplotlib.figure.Figure at 0x7f1e7f6b6668>"
      ]
     },
     "metadata": {},
     "output_type": "display_data"
    }
   ],
   "source": [
    "%matplotlib inline\n",
    "import matplotlib.pyplot as plt\n",
    "import matplotlib.animation as animation\n",
    "import itertools\n",
    "import random\n",
    "import copy\n",
    "    \n",
    "class Schelling:\n",
    "    def __init__(self, width, height, empty_ratio, similarity_threshold, n_iterations, races = 2):\n",
    "        self.width = width \n",
    "        self.height = height \n",
    "        self.races = races\n",
    "        self.empty_ratio = empty_ratio\n",
    "        self.similarity_threshold = similarity_threshold\n",
    "        self.n_iterations = n_iterations\n",
    "        self.empty_houses = []\n",
    "        self.agents = {}\n",
    "\n",
    "    def populate(self):\n",
    "        self.all_houses = list(itertools.product(range(self.width),range(self.height)))\n",
    "        random.shuffle(self.all_houses)\n",
    "\n",
    "        self.n_empty = int( self.empty_ratio * len(self.all_houses) )\n",
    "        self.empty_houses = self.all_houses[:self.n_empty]\n",
    "\n",
    "        self.remaining_houses = self.all_houses[self.n_empty:]\n",
    "        houses_by_race = [self.remaining_houses[i::self.races] for i in range(self.races)]\n",
    "        for i in range(self.races):\n",
    "            #create agents for each race\n",
    "            self.agents.update(dict(zip(houses_by_race[i], [i+1]*len(houses_by_race[i]))))\n",
    "            #self.agents = dict(self.agents.items() + dict(zip(houses_by_race[i], [i+1]*len(houses_by_race[i]))).items())\n",
    "\n",
    "    \n",
    "    def is_unsatisfied(self, x, y):\n",
    "        race = self.agents[(x,y)]\n",
    "        count_similar = 0\n",
    "        count_different = 0\n",
    "\n",
    "        if x > 0 and y > 0 and (x-1, y-1) not in self.empty_houses:\n",
    "            if self.agents[(x-1, y-1)] == race:\n",
    "                count_similar += 1\n",
    "            else:\n",
    "                count_different += 1\n",
    "        if y > 0 and (x,y-1) not in self.empty_houses:\n",
    "            if self.agents[(x,y-1)] == race:\n",
    "                count_similar += 1\n",
    "            else:\n",
    "                count_different += 1\n",
    "        if x < (self.width-1) and y > 0 and (x+1,y-1) not in self.empty_houses:\n",
    "            if self.agents[(x+1,y-1)] == race:\n",
    "                count_similar += 1\n",
    "            else:\n",
    "                count_different += 1\n",
    "        if x > 0 and (x-1,y) not in self.empty_houses:\n",
    "            if self.agents[(x-1,y)] == race:\n",
    "                count_similar += 1\n",
    "            else:\n",
    "                count_different += 1        \n",
    "        if x < (self.width-1) and (x+1,y) not in self.empty_houses:\n",
    "            if self.agents[(x+1,y)] == race:\n",
    "                count_similar += 1\n",
    "            else:\n",
    "                count_different += 1\n",
    "        if x > 0 and y < (self.height-1) and (x-1,y+1) not in self.empty_houses:\n",
    "            if self.agents[(x-1,y+1)] == race:\n",
    "                count_similar += 1\n",
    "            else:\n",
    "                count_different += 1        \n",
    "        if x > 0 and y < (self.height-1) and (x,y+1) not in self.empty_houses:\n",
    "            if self.agents[(x,y+1)] == race:\n",
    "                count_similar += 1\n",
    "            else:\n",
    "                count_different += 1        \n",
    "        if x < (self.width-1) and y < (self.height-1) and (x+1,y+1) not in self.empty_houses:\n",
    "            if self.agents[(x+1,y+1)] == race:\n",
    "                count_similar += 1\n",
    "            else:\n",
    "                count_different += 1\n",
    "\n",
    "        if (count_similar+count_different) == 0:\n",
    "            return False\n",
    "        else:\n",
    "            return float(count_similar)/(count_similar+count_different) < self.similarity_threshold\n",
    "\n",
    "    def update(self):\n",
    "        for i in range(self.n_iterations):\n",
    "            plt.draw()\n",
    "            self.old_agents = copy.deepcopy(self.agents)\n",
    "            n_changes = 0\n",
    "            for agent in self.old_agents:\n",
    "                if self.is_unsatisfied(agent[0], agent[1]):\n",
    "                    agent_race = self.agents[agent]\n",
    "                    empty_house = random.choice(self.empty_houses)\n",
    "                    self.agents[empty_house] = agent_race\n",
    "                    del self.agents[agent]\n",
    "                    self.empty_houses.remove(empty_house)\n",
    "                    self.empty_houses.append(agent)\n",
    "                    n_changes += 1\n",
    "            #print(n_changes)\n",
    "            if n_changes == 0:\n",
    "                break\n",
    "                \n",
    "    def move_to_empty(self, x, y):\n",
    "        race = self.agents[(x,y)]\n",
    "        empty_house = random.choice(self.empty_houses)\n",
    "        self.updated_agents[empty_house] = race\n",
    "        del self.updated_agents[(x, y)]\n",
    "        self.empty_houses.remove(empty_house)\n",
    "        self.empty_houses.append((x, y))\n",
    "        \n",
    "    def plot(self, title, numSubplot):\n",
    "        ax = plt.subplot(1,2,1)\n",
    "        #If you want to run the simulation with more than 7 colors, you should set agent_colors accordingly\n",
    "        agent_colors = {1:'b', 2:'r', 3:'g', 4:'c', 5:'m', 6:'y', 7:'k'}\n",
    "        for agent in self.agents:\n",
    "            ax.scatter(agent[0]+0.5, agent[1]+0.5, color=agent_colors[self.agents[agent]])\n",
    "\n",
    "        ax.set_title(title, fontsize=10, fontweight='bold')\n",
    "        ax.set_xlim([0, self.width])\n",
    "        ax.set_ylim([0, self.height])\n",
    "        ax.set_xticks([])\n",
    "        ax.set_yticks([])\n",
    "\n",
    "plt.figure(figsize=(16,8), dpi=72);\n",
    "fig, ax = plt.subplots()\n",
    "\n",
    "# Modify the similarity_threshold: 0.3, 0.5, 0.8\n",
    "schelling_1 = Schelling(20, 20, 0.3, 0.3, 500, 2)\n",
    "schelling_1.populate()\n",
    "schelling_1.plot('Initial State', 1)\n",
    "schelling_1.update()\n",
    "#schelling_1.plot('Final State', 2)\n"
   ]
  },
  {
   "cell_type": "markdown",
   "metadata": {},
   "source": [
    "# Modelo Axelrod de difusion cultural\n",
    "Buscar si hayalgo: es contraintuitivo del comportamiento individusal frente al comportamiento social\n",
    "# Modelo fast-effect\n",
    "En aglomeraciones, salir de la discotca: El colectivo sale mas rapido si la gente sale mas lento.\n",
    "Esta en C: http://panics.org/"
   ]
  },
  {
   "cell_type": "markdown",
   "metadata": {},
   "source": [
    "\n",
    "\n",
    "\n"
   ]
  },
  {
   "cell_type": "markdown",
   "metadata": {
    "collapsed": false,
    "scrolled": true
   },
   "source": [
    "# References\n",
    "- Clark, W. AV. [\"Residential preferences and neighborhood racial segregation: A test of the Schelling segregation\n",
    "model.\"](http://smg.media.mit.edu/library/Clark.ResidentialSegregation.pdf) Demography 28.1 (1991): 1-19.\n",
    "- Moujahid, A. [\"An introduction to agent-based models: simulating segregation with Python\"](https://www.binpress.com/tutorial/introduction-to-agentbased-models-an-implementation-of-schelling-model-in-python/144)"
   ]
  }
 ],
 "metadata": {
  "kernelspec": {
   "display_name": "Python 3",
   "language": "python",
   "name": "python3"
  },
  "language_info": {
   "codemirror_mode": {
    "name": "ipython",
    "version": 3
   },
   "file_extension": ".py",
   "mimetype": "text/x-python",
   "name": "python",
   "nbconvert_exporter": "python",
   "pygments_lexer": "ipython3",
   "version": "3.6.0"
  }
 },
 "nbformat": 4,
 "nbformat_minor": 2
}
