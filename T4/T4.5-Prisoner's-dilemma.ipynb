{
 "cells": [
  {
   "cell_type": "markdown",
   "metadata": {},
   "source": [
    "# Prisoner's dilemma\n",
    "\n",
    "The prisoner's dilemma is a standard example of a game analyzed in game theory that shows why two completely \"rational\" individuals might not cooperate, even if it appears that it is in their best interests to do so.\n",
    "\n",
    "> Two members of a criminal gang are arrested and imprisoned. Each prisoner is in solitary confinement with no means of communicating with the other. The prosecutors lack sufficient evidence to convict the pair on the principal charge. They hope to get both sentenced to a year in prison on a lesser charge. Simultaneously, the prosecutors offer each prisoner a bargain. Each prisoner is given the opportunity either to: betray the other by testifying that the other committed the crime, or to cooperate with the other by remaining silent. The offer is:\n",
    " - If A and B each betray the other, each of them serves 2 years in prison\n",
    " - If A betrays B but B remains silent, A will be set free and B will serve 3 years in prison (and vice versa)\n",
    " - If A and B both remain silent, both of them will only serve 1 year in prison (on the lesser charge)\n",
    "\n",
    "> It is assumed that both understand the nature of the game, and that despite being members of the same gang, they have no loyalty to each other and will have no opportunity for retribution or reward outside the game.\n",
    "\n",
    "Because defection always results in a better payoff than cooperation, regardless of the other player's choice, it is a dominant strategy. The dilemma then is that mutual cooperation yields a better outcome than mutual defection but it is not the rational outcome because from a self-interested perspective, the choice to cooperate, at the individual level, is irrational.\n",
    "\n",
    "All purely rational self-interested prisoners would betray the other because betraying a partner offers a greater reward than cooperating with them, and so the only possible outcome for two purely rational prisoners is for them to betray each other. The interesting part of this result is that pursuing individual reward logically leads both of the prisoners to betray, when they would get a better reward if they both kept silent. In reality, humans display a systemic bias towards cooperative behavior in this and similar games, much more so than predicted by simple models of \"rational\" self-interested action.\n",
    "\n",
    "The prisoner's dilemma game can be used as a model for many real world situations involving cooperative behaviour. In casual usage, the label \"prisoner's dilemma\" may be applied to situations not strictly matching the formal criteria of the classic or iterative games: for instance, those in which two entities could gain important benefits from cooperating or suffer from the failure to do so, but find it merely difficult or expensive, not necessarily impossible, to coordinate their activities to achieve cooperation.\n",
    "\n",
    "## Exercise\n",
    "\n",
    "The purpose is to show how the game evolves with different strategies. Lets kick some matches with a Prissoner's Dilemma matrix and 100 rounds per match.\n",
    "\n",
    "**Strategies:**\n",
    "\n",
    "- Nice: Cooperates with 70% chance.\n",
    "- Crazy: Cooperates with 50% chance.\n",
    "- Alternate: Alternates cooperate / defeat.\n",
    "- AlternateCCD: Cooperates 2 of every 3 times.\n",
    "- Naive: Repeats the last play if the opponent cooperated.\n",
    "- NaiveProber: Defeats with 20% chance, else repeats the last play if the opponent cooperated.\n",
    "- TitForTat: Plays what the opponent played last time.\n",
    "- TitForTwoTats: Cooperates if the opponent cooperated the last 2 times.\n",
    "- SmoothTitForTat: Cooperates with 10% chance, othewise like tit for tat.\n",
    "- Selfish: Cooperates with 50% chance only if the opponent cooperated the last time.\n",
    "- Majority: Defects when the opponent defected more that 50% of the times.\n",
    "- Spiteful: Cooperates until opponent defeats. Then defeats always.\n",
    "\n",
    "Pair the strategies as shoen in the code and look for the better results."
   ]
  },
  {
   "cell_type": "code",
   "execution_count": 37,
   "metadata": {
    "collapsed": false
   },
   "outputs": [
    {
     "name": "stdout",
     "output_type": "stream",
     "text": [
      "Alice scored 161 with strategy Nice\n",
      "Bob scored 161 with strategy TitForTat\n",
      "*** END ***\n",
      "\n"
     ]
    }
   ],
   "source": [
    "from pydilemma.game_play import *\n",
    "\n",
    "play_with('Nice', 'TitForTat') # These 2 guys get along very well... \n",
    "#play_with('Nice', 'Naive') # Naive tries to get advantage of what works...\n",
    "#play_with('Nice', 'NaiveProber') # And Naive Prober tries aggressively...\n",
    "#play_with('NaiveProber', 'Majority') # But the NaiveProber can't compete against a Majority!\n",
    "#play_with('SmoothTitForTat', 'TitForTwoTats') # On the other hand, Tit For Tat cousins destroy each other...\n",
    "#play_with('Selfish', 'Crazy') # A Selfish guy gets a good chance against someone who doesn't know too much about the game...\n",
    "#play_with('Alternate', 'Majority') # Some really simple strategies can get good results sometimes..."
   ]
  },
  {
   "cell_type": "markdown",
   "metadata": {},
   "source": [
    "## Exercise 2\n",
    "\n",
    "We can simulate a population of strategies, put them to play, and see how the population evolve. These are the rules:\n",
    "\n",
    "1. There is a initial queue filled randomly with strategies passed as input.\n",
    "2. It pulls the first 2 players of the queue and performs a game with 50 rounds per game.\n",
    "3. If one player reaches 70 points, 2 players with the same strategy will be added to the queue. At that time, if the other one has more than 50 points, 1 player with the same strategy will be added to the queue. Both scores reset.\n",
    "4. Repeat until queue is empty or number of generations limit has reached.\n",
    "\n",
    "Lets do some tests with 200 generations each, and try to get the best strategies."
   ]
  },
  {
   "cell_type": "code",
   "execution_count": 39,
   "metadata": {
    "collapsed": false
   },
   "outputs": [
    {
     "name": "stdout",
     "output_type": "stream",
     "text": [
      "Population size after 200 generations is 340\n",
      "40.6% of the population are TitForTat\n",
      "30.6% of the population are Majority\n",
      "23.5% of the population are Naive\n",
      "4.1% of the population are Nice\n",
      "1.2% of the population are Alternate\n"
     ]
    }
   ],
   "source": [
    "from pydilemma.generational import *\n",
    "\n",
    "Generational('PrisonerMatrix', ['TitForTat', 'Alternate', 'Majority', 'Naive', 'Nice'], 200).start()"
   ]
  },
  {
   "cell_type": "markdown",
   "metadata": {
    "collapsed": false,
    "scrolled": true
   },
   "source": [
    "# References\n",
    "- Jalvz. [\"Pythoners-dilemma.\"](https://github.com/jalvz/pythoners-dilemma)\n",
    "- Wikipedia. [\"Prisoner's dilemma.\"](https://en.wikipedia.org/wiki/Prisoner%27s_dilemma)"
   ]
  }
 ],
 "metadata": {
  "kernelspec": {
   "display_name": "Python 3",
   "language": "python",
   "name": "python3"
  },
  "language_info": {
   "codemirror_mode": {
    "name": "ipython",
    "version": 3
   },
   "file_extension": ".py",
   "mimetype": "text/x-python",
   "name": "python",
   "nbconvert_exporter": "python",
   "pygments_lexer": "ipython3",
   "version": "3.6.0"
  }
 },
 "nbformat": 4,
 "nbformat_minor": 2
}
