{
 "cells": [
  {
   "cell_type": "markdown",
   "metadata": {},
   "source": [
    "# Schelling's model of segregation\n",
    "\n",
    "If you look at the racial distribution of multi-ethnic cities, you'll be astonished by the incredible racial segregation. For example, the New York City map below represents data from the 2010 US Census color-coded by race. You can clearly see the racial segregation.\n",
    "\n",
    "Many would conclude from such phenomena that people are intolerant, and don't want to live next to people that are different from them. A deeper look, however, might provide some nuance. In the 70's, Thomas Schelling, the 2005 Economics Nobel Prize winner, was interested in this subject and built an agent-based model for explaining this phenomenon. With a very simple model, Schelling could show that what we see at the macro level may not in fact represent what's going down in the micro level.\n",
    "\n",
    "We'll run a few simulations using the Schelling model to get a deeper understanding of the segregation phenomena.\n",
    "\n",
    "![](segregation-new-york-city.jpg)\n",
    "\n",
    "# 1. The model\n",
    "\n",
    "Agent-based models need three parameters: 1) Agents, 2) Behavior (rules) and 3) Metrics at the aggregated level. In the Schelling model, the agents are the people living in the city, the behavior is the house moving based on the similarity ratio and the metrics at the aggregated level is the similarity ratio.\n",
    "\n",
    "Let n be the number of races living in a city. We represent each race by a unique color and we represent the city by a grid where each cell represents a house. A house can be either empty or full. A full house can have have only one person living in it. If the house is empty, we color it in white. If the house is full, we color it by the color of the person living in it. We define the neighbors of a person to be the people living in the adjacent houses (Up, Bottom, Left, Right, Up-Left, Up-Right, Bottom-Left, Bottom-Right).\n",
    "\n",
    "Schelling's goal was to test what would happen if people had a small preference that their neighbors be of the same color (or even preference for some diversity). If the ratio of neighbors of the same race is above a certain threshold (that we call Similarity Threshold), we say that the person is satisfied. If not, we say that the person is unsatisfied.\n",
    "\n",
    "The Schelling simulation goes as follows. We start by randomly putting people in the city and we leave some houses empty. For each person living in the city, we check if he/she is satisfied. If satisfied, we don't do anything. If not, we move the person to an empty house. We run this simulation for a few iterations, and we check the final distribution of the people.\n",
    "\n",
    "## Exercise\n",
    "\n",
    "Run the below simulation and observe how the races tend to agglomerate in clusters.\n",
    "\n",
    "Go to the OpenProcessing web and, in the first lines of the code, change the parameters:\n",
    "- Number of races. As more races involved, as longer the computing time to get a stable situation. Decrease the size of the board to get faster results.\n",
    "- Change the ratio of similarity, i.e. the minimum ratio of neighbours of the same race that make a person stay in the house."
   ]
  },
  {
   "cell_type": "code",
   "execution_count": 57,
   "metadata": {
    "collapsed": false
   },
   "outputs": [
    {
     "data": {
      "text/html": [
       "<iframe src=\"https://www.openprocessing.org/sketch/437057/embed/\" width=\"510\" height=\"510\"></iframe>"
      ],
      "text/plain": [
       "<IPython.core.display.HTML object>"
      ]
     },
     "metadata": {},
     "output_type": "display_data"
    }
   ],
   "source": [
    "%%HTML\n",
    "<iframe src=\"https://www.openprocessing.org/sketch/437057/embed/\" width=\"510\" height=\"510\"></iframe>"
   ]
  },
  {
   "cell_type": "markdown",
   "metadata": {},
   "source": [
    "## Exercise\n",
    "\n",
    "Now, we implment the model in Python to calculate some metrics.\n",
    "\n",
    "Read the commentaries in the code, explaining the meaning of the methods."
   ]
  },
  {
   "cell_type": "code",
   "execution_count": 58,
   "metadata": {
    "collapsed": false
   },
   "outputs": [],
   "source": [
    "\n",
    "# Class to store and manage the data of the neighbourhood.\n",
    "class Schelling:\n",
    "    \n",
    "    # Create this data object and init the variables.\n",
    "    def __init__(self, width, height, empty_ratio, similarity_threshold, n_iterations, races = 2):\n",
    "        self.width = width \n",
    "        self.height = height \n",
    "        self.races = races\n",
    "        self.empty_ratio = empty_ratio\n",
    "        self.similarity_threshold = similarity_threshold\n",
    "        self.n_iterations = n_iterations\n",
    "        self.empty_houses = []\n",
    "        self.agents = {}\n",
    "\n",
    "        \n",
    "    # This method is used at the beginning of the simulation,\n",
    "    # to randomly distribute the people in the grid\n",
    "    def populate(self):\n",
    "        self.all_houses = list(itertools.product(range(self.width),range(self.height)))\n",
    "        random.shuffle(self.all_houses)\n",
    "\n",
    "        self.n_empty = int( self.empty_ratio * len(self.all_houses) )\n",
    "        self.empty_houses = self.all_houses[:self.n_empty]\n",
    "\n",
    "        self.remaining_houses = self.all_houses[self.n_empty:]\n",
    "        houses_by_race = [self.remaining_houses[i::self.races] for i in range(self.races)]\n",
    "        for i in range(self.races):\n",
    "            #create agents for each race\n",
    "            self.agents.update(dict(zip(houses_by_race[i], [i+1]*len(houses_by_race[i]))))\n",
    "\n",
    "            \n",
    "    # This method takes the (x, y) coordinates of a house as arguments, \n",
    "    # checks the ratio of neighbors of similar color, \n",
    "    # and returns True if the ratio is above the happiness threshold, otherwise it returns False.\n",
    "    def is_unsatisfied(self, x, y):\n",
    "        race = self.agents[(x,y)]\n",
    "        count_similar = 0\n",
    "        count_different = 0\n",
    "\n",
    "        if x > 0 and y > 0 and (x-1, y-1) not in self.empty_houses:\n",
    "            if self.agents[(x-1, y-1)] == race:\n",
    "                count_similar += 1\n",
    "            else:\n",
    "                count_different += 1\n",
    "        if y > 0 and (x,y-1) not in self.empty_houses:\n",
    "            if self.agents[(x,y-1)] == race:\n",
    "                count_similar += 1\n",
    "            else:\n",
    "                count_different += 1\n",
    "        if x < (self.width-1) and y > 0 and (x+1,y-1) not in self.empty_houses:\n",
    "            if self.agents[(x+1,y-1)] == race:\n",
    "                count_similar += 1\n",
    "            else:\n",
    "                count_different += 1\n",
    "        if x > 0 and (x-1,y) not in self.empty_houses:\n",
    "            if self.agents[(x-1,y)] == race:\n",
    "                count_similar += 1\n",
    "            else:\n",
    "                count_different += 1        \n",
    "        if x < (self.width-1) and (x+1,y) not in self.empty_houses:\n",
    "            if self.agents[(x+1,y)] == race:\n",
    "                count_similar += 1\n",
    "            else:\n",
    "                count_different += 1\n",
    "        if x > 0 and y < (self.height-1) and (x-1,y+1) not in self.empty_houses:\n",
    "            if self.agents[(x-1,y+1)] == race:\n",
    "                count_similar += 1\n",
    "            else:\n",
    "                count_different += 1        \n",
    "        if x > 0 and y < (self.height-1) and (x,y+1) not in self.empty_houses:\n",
    "            if self.agents[(x,y+1)] == race:\n",
    "                count_similar += 1\n",
    "            else:\n",
    "                count_different += 1        \n",
    "        if x < (self.width-1) and y < (self.height-1) and (x+1,y+1) not in self.empty_houses:\n",
    "            if self.agents[(x+1,y+1)] == race:\n",
    "                count_similar += 1\n",
    "            else:\n",
    "                count_different += 1\n",
    "\n",
    "        if (count_similar+count_different) == 0:\n",
    "            return False\n",
    "        else:\n",
    "            return float(count_similar)/(count_similar+count_different) < self.similarity_threshold\n",
    "\n",
    "        \n",
    "    # This method checks if each person in the grid is unsatisfied.\n",
    "    # If yes it assigns the person to a randomly chosen empty house.\n",
    "    # It runs this process n_iterations times\n",
    "    def update(self):\n",
    "        for i in range(self.n_iterations):\n",
    "            plt.draw()\n",
    "            self.old_agents = copy.deepcopy(self.agents)\n",
    "            n_changes = 0\n",
    "            for agent in self.old_agents:\n",
    "                if self.is_unsatisfied(agent[0], agent[1]):\n",
    "                    agent_race = self.agents[agent]\n",
    "                    empty_house = random.choice(self.empty_houses)\n",
    "                    self.agents[empty_house] = agent_race\n",
    "                    del self.agents[agent]\n",
    "                    self.empty_houses.remove(empty_house)\n",
    "                    self.empty_houses.append(agent)\n",
    "                    n_changes += 1\n",
    "            #print(n_changes)\n",
    "            if n_changes == 0:\n",
    "                break\n",
    "\n",
    "\n",
    "    # This method takes the (x, y) coordinates of a house as arguments,\n",
    "    # and moves the person living in the (x, y) house to an empty house.\n",
    "    # This method is called within the update method to move the unsatisfied people to empty houses.             \n",
    "    def move_to_empty(self, x, y):\n",
    "        race = self.agents[(x,y)]\n",
    "        empty_house = random.choice(self.empty_houses)\n",
    "        self.updated_agents[empty_house] = race\n",
    "        del self.updated_agents[(x, y)]\n",
    "        self.empty_houses.remove(empty_house)\n",
    "        self.empty_houses.append((x, y))\n",
    "        \n",
    "        \n",
    "    # This method draws the whole city and people living in the city. \n",
    "    # We can call this method at anytime to check the distribution of people in the city.\n",
    "    def plot(self, title, numSubplot):\n",
    "        ax = plt.subplot(1, 2, numSubplot)\n",
    "        #If you want to run the simulation with more than 7 colors, you should set agent_colors accordingly\n",
    "        agent_colors = {1:'b', 2:'r', 3:'g', 4:'c', 5:'m', 6:'y', 7:'k'}\n",
    "        for agent in self.agents:\n",
    "            ax.scatter(agent[0]+0.5, agent[1]+0.5, color=agent_colors[self.agents[agent]])\n",
    "\n",
    "        ax.set_title(title, fontsize=10, fontweight='bold')\n",
    "        ax.set_xlim([0, self.width])\n",
    "        ax.set_ylim([0, self.height])\n",
    "        ax.set_xticks([])\n",
    "        ax.set_yticks([])\n",
    "      \n",
    "    \n",
    "    # This method calculates the similarity ratio for each agent and returns the mean similarity ratio. \n",
    "    # We'll use the mean similarity ratio as a measure of segregation.\n",
    "    def calculate_similarity(self):\n",
    "        similarity = []\n",
    "        for agent in self.agents:\n",
    "            count_similar = 0\n",
    "            count_different = 0\n",
    "            x = agent[0]\n",
    "            y = agent[1]\n",
    "            race = self.agents[(x,y)]\n",
    "            if x > 0 and y > 0 and (x-1, y-1) not in self.empty_houses:\n",
    "                if self.agents[(x-1, y-1)] == race:\n",
    "                    count_similar += 1\n",
    "                else:\n",
    "                    count_different += 1\n",
    "            if y > 0 and (x,y-1) not in self.empty_houses:\n",
    "                if self.agents[(x,y-1)] == race:\n",
    "                    count_similar += 1\n",
    "                else:\n",
    "                    count_different += 1\n",
    "            if x < (self.width-1) and y > 0 and (x+1,y-1) not in self.empty_houses:\n",
    "                if self.agents[(x+1,y-1)] == race:\n",
    "                    count_similar += 1\n",
    "                else:\n",
    "                    count_different += 1\n",
    "            if x > 0 and (x-1,y) not in self.empty_houses:\n",
    "                if self.agents[(x-1,y)] == race:\n",
    "                    count_similar += 1\n",
    "                else:\n",
    "                    count_different += 1        \n",
    "            if x < (self.width-1) and (x+1,y) not in self.empty_houses:\n",
    "                if self.agents[(x+1,y)] == race:\n",
    "                    count_similar += 1\n",
    "                else:\n",
    "                    count_different += 1\n",
    "            if x > 0 and y < (self.height-1) and (x-1,y+1) not in self.empty_houses:\n",
    "                if self.agents[(x-1,y+1)] == race:\n",
    "                    count_similar += 1\n",
    "                else:\n",
    "                    count_different += 1        \n",
    "            if x > 0 and y < (self.height-1) and (x,y+1) not in self.empty_houses:\n",
    "                if self.agents[(x,y+1)] == race:\n",
    "                    count_similar += 1\n",
    "                else:\n",
    "                    count_different += 1        \n",
    "            if x < (self.width-1) and y < (self.height-1) and (x+1,y+1) not in self.empty_houses:\n",
    "                if self.agents[(x+1,y+1)] == race:\n",
    "                    count_similar += 1\n",
    "                else:\n",
    "                    count_different += 1\n",
    "            try:\n",
    "                similarity.append(float(count_similar)/(count_similar+count_different))\n",
    "            except:\n",
    "                similarity.append(1)\n",
    "        return sum(similarity)/len(similarity)        "
   ]
  },
  {
   "cell_type": "markdown",
   "metadata": {},
   "source": [
    "Now that we have our implementation of the Schelling class, we can run different simulations and plot the results. We'll build a simulation with the following characteristics:\n",
    "\n",
    "- Width = 30, and height = 30 (900 houses)\n",
    "- 30% of empty houses\n",
    "- Maximum number of iterations = 500\n",
    "- Number of races = 2\n",
    "\n",
    "To analise the impact of the similarity, run the simulation three times for three different similarity thresholds:\n",
    "- Similarity Threshold of 30%, 50%, and 80%\n"
   ]
  },
  {
   "cell_type": "code",
   "execution_count": 85,
   "metadata": {
    "collapsed": false
   },
   "outputs": [
    {
     "data": {
      "image/png": "[encoded data removed]",
      "text/plain": [
       "<matplotlib.figure.Figure at 0x7fac381d2668>"
      ]
     },
     "metadata": {},
     "output_type": "display_data"
    }
   ],
   "source": [
    "%matplotlib inline\n",
    "import matplotlib.pyplot as plt\n",
    "\n",
    "fig = plt.figure(figsize=(12,6), dpi=72);\n",
    "\n",
    "empty_ratio = 0.3\n",
    "similarity_threshold = 0.3\n",
    "n_iterations = 5000\n",
    "races = 2\n",
    "\n",
    "schelling_1 = Schelling(30, 30, empty_ratio, similarity_threshold, n_iterations, races)\n",
    "schelling_1.populate()\n",
    "schelling_1.plot('Initial State', 1)\n",
    "schelling_1.update()\n",
    "schelling_1.plot('Final State', 2)\n",
    "plt.show()"
   ]
  },
  {
   "cell_type": "markdown",
   "metadata": {},
   "source": [
    "# 2. Measuring segregation\n",
    "\n",
    "Looking at the plots above, we can see that the higher the similarity threshold, the more segregated the city becomes. Furthermore, we can see that even with a small similarity threshold, we get segregated cities. In other words, even if the people are very tolerant (i.e. having a small Similarity threshold), we end up with segregation. We can conclude that what we see at the macro level may not in fact represent what's going down in the micro level.\n",
    "\n",
    "We'll define a quantitative measure for calculating segregation. in the code, the calculate_similarity method performs this calculation. Read the commentary for a better explanation.\n",
    "\n",
    "## Exercise\n",
    "\n",
    "Next, we'll calculate the mean similarity ratio for different similarity thresholds, and plot the relationship between the similarity threshold and the similarity ratio.\n",
    "\n",
    "You can see from the plot above that for very small similarity thresholds, we get very high segregation (defined by the mean similarity ratio). For example, for a similarity threshold of 0.3, we got a mean similarity ratio of 0.75. We could confirm quantitatively that what we see at the macro level may not in fact represent what's going down in the micro level.\n",
    "\n",
    "As well, the relation between the Similarity Threshold and the Mean Similarity Ratio is non-linear."
   ]
  },
  {
   "cell_type": "code",
   "execution_count": 86,
   "metadata": {
    "collapsed": false
   },
   "outputs": [
    {
     "data": {
      "text/plain": [
       "<matplotlib.figure.Figure at 0x7fac38c7d908>"
      ]
     },
     "metadata": {},
     "output_type": "display_data"
    },
    {
     "data": {
      "image/png": "[encoded data removed]",
      "text/plain": [
       "<matplotlib.figure.Figure at 0x7fac38976b38>"
      ]
     },
     "metadata": {},
     "output_type": "display_data"
    }
   ],
   "source": [
    "%matplotlib inline\n",
    "import numpy as np\n",
    "\n",
    "similarity_ratio   = np.arange(0, 0.7, 0.05)\n",
    "similarity_average = np.zeros(len(similarity_ratio))\n",
    "\n",
    "iterations = 20\n",
    "for iter in range(iterations):\n",
    "    for ix,ratio in enumerate(similarity_ratio):\n",
    "        schelling = Schelling(10, 10, 0.3, ratio, 500, 2)\n",
    "        schelling.populate()\n",
    "        schelling.update()\n",
    "        similarity_average[ix] += schelling.calculate_similarity()\n",
    "\n",
    "similarity_average = similarity_average/iterations\n",
    "        \n",
    "fig, ax = plt.subplots();\n",
    "plt.plot(similarity_ratio, similarity_average, 'ro-');\n",
    "ax.set_title('Similarity Threshold vs. Mean Similarity Ratio', fontsize=15, fontweight='bold');\n",
    "ax.set_xlim([0, 0.7]);\n",
    "ax.set_ylim([0.4, 1]);\n",
    "ax.set_xlabel(\"Similarity Threshold\");\n",
    "ax.set_ylabel(\"Mean Similarity Ratio\");\n",
    "plt.show();"
   ]
  },
  {
   "cell_type": "markdown",
   "metadata": {},
   "source": [
    "\n",
    "\n",
    "\n"
   ]
  },
  {
   "cell_type": "markdown",
   "metadata": {
    "collapsed": false,
    "scrolled": true
   },
   "source": [
    "# References\n",
    "- Clark, W. AV. [\"Residential preferences and neighborhood racial segregation: A test of the Schelling segregation\n",
    "model.\"](http://smg.media.mit.edu/library/Clark.ResidentialSegregation.pdf) Demography 28.1 (1991): 1-19.\n",
    "- Moujahid, A. [\"An introduction to agent-based models: simulating segregation with Python\"](https://www.binpress.com/tutorial/introduction-to-agentbased-models-an-implementation-of-schelling-model-in-python/144)"
   ]
  }
 ],
 "metadata": {
  "kernelspec": {
   "display_name": "Python 3",
   "language": "python",
   "name": "python3"
  },
  "language_info": {
   "codemirror_mode": {
    "name": "ipython",
    "version": 3
   },
   "file_extension": ".py",
   "mimetype": "text/x-python",
   "name": "python",
   "nbconvert_exporter": "python",
   "pygments_lexer": "ipython3",
   "version": "3.6.0"
  }
 },
 "nbformat": 4,
 "nbformat_minor": 2
}
