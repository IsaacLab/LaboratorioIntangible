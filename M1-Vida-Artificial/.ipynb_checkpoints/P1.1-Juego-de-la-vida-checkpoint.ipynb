{
 "cells": [
  {
   "cell_type": "markdown",
   "metadata": {},
   "source": [
    "# El Juego de la Vida\n",
    "\n",
    "We used a one-dimensional array to store the list of cell states before, and for the Game of Life, we can use a two-dimensional array.\n",
    "\n",
    "We’ll begin by initializing each cell of the board with a random state: 0 or 1.\n",
    "\n",
    "**Hacer resumen de:**\n",
    "http://natureofcode.com/book/chapter-7-cellular-automata\n"
   ]
  },
  {
   "cell_type": "markdown",
   "metadata": {},
   "source": [
    "### *Código para poder ejecutar el lenguaje \"Processing\" en esta página*"
   ]
  },
  {
   "cell_type": "code",
   "execution_count": 4,
   "metadata": {
    "collapsed": false
   },
   "outputs": [],
   "source": [
    "from metakernel import register_ipython_magics\n",
    "register_ipython_magics()"
   ]
  },
  {
   "cell_type": "markdown",
   "metadata": {
    "collapsed": false
   },
   "source": [
    "### Código del Juego de la Vida"
   ]
  },
  {
   "cell_type": "code",
   "execution_count": 16,
   "metadata": {
    "collapsed": false
   },
   "outputs": [
    {
     "data": {
      "text/html": [
       "\n",
       "<canvas id=\"canvas_14\"></canvas>\n",
       "<script>\n",
       "require([window.location.protocol + \"//calysto.github.io/javascripts/processing/processing.js\"], function () {\n",
       "    var processingCode = '\\n// Una implementacion basica del Juego de la Vida de John Conway\\n// Codigo basado en:\\n// The Nature of Code\\n// Daniel Shiffman\\n// http://natureofcode.com\\n\\n// Configuracion del tablero\\nint refreshRate = 3; // Velocidad de refresco (refrescos por segundo)\\n\\n// Configuracion de las celulas\\nint statesSize = 2; // Numero de estados posibles (2 = Inactivo o activo)\\nint[] statesColor = new int[]{255, 0}; // Color de cada estado (0=negro, 255=blanco)\\nint[] statesProbability = new int[]{50, 50}; // Probabilidad inicial de cada estado, en porcentaje (la suma debe ser 100)\\n\\n// Configuracion de las reglas del Juego de la Vida\\nint ruleMax_neighbors = 3; // Regla de sobrepoblacion (la celula se muere cuando vecinos_activos > ruleMax_neighbors)\\nint ruleMin_neighbors = 2; // Regla de soledad (la celula se muere cuando vecinos_activos < ruleMin_neighbors)\\nint ruleRep_neighbors = 3; // Regla de reproducción (la celula se activa cuando vecinos_activos = ruleRep_neighbors)\\n\\n// Objeto con los datos del tablero\\nGOL gol;\\n\\n// Inicio\\nvoid setup() {\\n    checkParams(); // Comprobacion de que los parametros son correctos\\n    size(640, 320); // Dimensiones del tablero (pixels)\\n    frameRate(refreshRate); // Velocidad de refresco\\n    gol = new GOL();\\n}\\n\\n// Dibujar\\nvoid draw() {\\n    gol.generate(); // Calcular siguiente generacion\\n    gol.display(); // Mostrar nuevo tablero\\n}\\n\\n// Reiniciar el tablero cuando se pulsa el raton\\nvoid mousePressed() {\\n    gol.init();\\n}\\n\\n// Comprobar si hay algun error en los parametros de configuracion\\nvoid checkParams() {\\n    if (statesSize!=statesProbability.length) {\\n        println(\"El vector de probabilidades debe tener una longitud de \"+str(statesSize)+\" estados.\");\\n    }\\n    int total = 0;\\n    for (int i=0; i<statesProbability.length; i++) { total=total+statesProbability[i]; }\\n    if (total!=100) {\\n        println(\"El vector de probabilidades debe sumar 100.\");\\n    }\\n}\\n\\n\\n// Clase para mostrar un tablero del Juego de la Vida \\nclass GOL {\\n\\n  int w = 8; // Anchura de cada celula (pixeles)\\n  int columns, rows; // Numero de filas y columnas del tablero\\n  int[][] board; // Tablero: Estados de cada una de las celulas.\\n\\n  GOL() {\\n    // Iniciamos filas, columnas y tablero\\n    columns = width/w;\\n    rows = height/w;\\n    board = new int[columns][rows];\\n    // Iniciamos el tablero\\n    init();\\n  }\\n\\n  // Iniciar los datos del tablero\\n  void init() {\\n    int[] probabilityCumulative = new int[statesSize];\\n    probabilityCumulative[0] = statesProbability[0];\\n      for (int i=1; i<statesSize; i++) {\\n        probabilityCumulative[i] = probabilityCumulative[i-1]+statesProbability[i];\\n    }\\n    int aux;\\n    for (int i =1;i < columns-1;i++) {\\n      for (int j =1;j < rows-1;j++) {\\n          //board[i][j] = int(random(2));\\n          aux = int(random(100));\\n          for (int k=statesSize-1; k>=0; k--) {\\n              if (aux<probabilityCumulative[k]) {\\n                  board[i][j] = k;\\n              }\\n          }\\n      }\\n    }\\n  }\\n\\n  // Calcular una nueva generacion\\n  void generate() {\\n\\n    int[][] next = new int[columns][rows];\\n\\n    // Loop through every spot in our 2D array and check spots neighbors\\n    for (int x = 1; x < columns-1; x++) {\\n      for (int y = 1; y < rows-1; y++) {\\n\\n        // Add up all the states in a 3x3 surrounding grid\\n        int neighbors = 0;\\n        for (int i = -1; i <= 1; i++) {\\n          for (int j = -1; j <= 1; j++) {\\n            neighbors += board[x+i][y+j];\\n          }\\n        }\\n\\n        // A little trick to subtract the current cell\\'s state since\\n        // we added it in the above loop\\n        neighbors -= board[x][y];\\n\\n        // Rules of Life\\n        if      ((board[x][y] == 1) && (neighbors <  ruleMin_neighbors)) next[x][y] = 0; // Loneliness\\n        else if ((board[x][y] == 1) && (neighbors >  ruleMax_neighbors)) next[x][y] = 0; // Overpopulation\\n        else if ((board[x][y] == 0) && (neighbors == ruleRep_neighbors)) next[x][y] = 1; // Reproduction\\n        else                                                             next[x][y] = board[x][y]; // Stasis\\n      }\\n    }\\n\\n    // Next is now our board\\n    board = next;\\n  }\\n\\n  // Dibujar el tablero\\n  void display() {\\n    for ( int i = 0; i < columns;i++) {\\n      for ( int j = 0; j < rows;j++) {\\n        fill(statesColor[board[i][j]]);\\n        stroke(0);\\n        rect(i*w, j*w, w, w);\\n      }\\n    }\\n  }\\n}';\n",
       "    var cc = Processing.compile(processingCode);\n",
       "    var processingInstance = new Processing(\"canvas_14\", cc);\n",
       "});\n",
       "</script>\n"
      ],
      "text/plain": [
       "<IPython.core.display.HTML object>"
      ]
     },
     "metadata": {},
     "output_type": "display_data"
    }
   ],
   "source": [
    "%%processing\n",
    "\n",
    "// Implementacion del Juego de la Vida de John Conway\n",
    "// Codigo basado en:\n",
    "// The Nature of Code\n",
    "// Daniel Shiffman\n",
    "// http://natureofcode.com\n",
    "\n",
    "// Configuracion del tablero\n",
    "int refreshRate = 3; // Velocidad de refresco (refrescos por segundo)\n",
    "\n",
    "// Configuracion de las celulas\n",
    "int statesSize = 2; // Numero de estados posibles (2 = Inactivo o activo)\n",
    "int[] statesColor = new int[]{255, 0}; // Color de cada estado (0=negro, 255=blanco)\n",
    "int[] statesProbability = new int[]{50, 50}; // Probabilidad inicial de cada estado, en porcentaje (la suma debe ser 100)\n",
    "\n",
    "// Configuracion de las reglas del Juego de la Vida\n",
    "int ruleMax_neighbors = 3; // Regla de sobrepoblacion (la celula se muere cuando vecinos_activos > ruleMax_neighbors)\n",
    "int ruleMin_neighbors = 2; // Regla de soledad (la celula se muere cuando vecinos_activos < ruleMin_neighbors)\n",
    "int ruleRep_neighbors = 3; // Regla de reproducción (la celula se activa cuando vecinos_activos = ruleRep_neighbors)\n",
    "\n",
    "\n",
    "// Clase para mostrar un tablero del Juego de la Vida \n",
    "class GOL {\n",
    "\n",
    "  int w = 8; // Anchura de cada celula (pixeles)\n",
    "  int columns, rows; // Numero de filas y columnas del tablero\n",
    "  int[][] board; // Tablero: Estados de cada una de las celulas.\n",
    "\n",
    "  GOL() {\n",
    "    // Iniciamos filas, columnas y tablero\n",
    "    columns = width/w;\n",
    "    rows = height/w;\n",
    "    board = new int[columns][rows];\n",
    "    // Iniciamos el tablero\n",
    "    init();\n",
    "  }\n",
    "\n",
    "  // Iniciar los datos del tablero\n",
    "  void init() {\n",
    "    int[] probabilityCumulative = new int[statesSize];\n",
    "    probabilityCumulative[0] = statesProbability[0];\n",
    "      for (int i=1; i<statesSize; i++) {\n",
    "        probabilityCumulative[i] = probabilityCumulative[i-1]+statesProbability[i];\n",
    "    }\n",
    "    int aux;\n",
    "    for (int i =1;i < columns-1;i++) {\n",
    "      for (int j =1;j < rows-1;j++) {\n",
    "          //board[i][j] = int(random(2));\n",
    "          aux = int(random(100));\n",
    "          for (int k=statesSize-1; k>=0; k--) {\n",
    "              if (aux<probabilityCumulative[k]) {\n",
    "                  board[i][j] = k;\n",
    "              }\n",
    "          }\n",
    "      }\n",
    "    }\n",
    "  }\n",
    "\n",
    "  // Calcular una nueva generacion\n",
    "  void generate() {\n",
    "\n",
    "    int[][] next = new int[columns][rows];\n",
    "\n",
    "    // Loop through every spot in our 2D array and check spots neighbors\n",
    "    for (int x = 1; x < columns-1; x++) {\n",
    "      for (int y = 1; y < rows-1; y++) {\n",
    "\n",
    "        // Add up all the states in a 3x3 surrounding grid\n",
    "        int neighbors = 0;\n",
    "        for (int i = -1; i <= 1; i++) {\n",
    "          for (int j = -1; j <= 1; j++) {\n",
    "            neighbors += board[x+i][y+j];\n",
    "          }\n",
    "        }\n",
    "\n",
    "        // A little trick to subtract the current cell's state since\n",
    "        // we added it in the above loop\n",
    "        neighbors -= board[x][y];\n",
    "\n",
    "        // Rules of Life\n",
    "        if      ((board[x][y] == 1) && (neighbors <  ruleMin_neighbors)) next[x][y] = 0; // Loneliness\n",
    "        else if ((board[x][y] == 1) && (neighbors >  ruleMax_neighbors)) next[x][y] = 0; // Overpopulation\n",
    "        else if ((board[x][y] == 0) && (neighbors == ruleRep_neighbors)) next[x][y] = 1; // Reproduction\n",
    "        else                                                             next[x][y] = board[x][y]; // Stasis\n",
    "      }\n",
    "    }\n",
    "\n",
    "    // Next is now our board\n",
    "    board = next;\n",
    "  }\n",
    "\n",
    "  // Dibujar el tablero\n",
    "  void display() {\n",
    "    for ( int i = 0; i < columns;i++) {\n",
    "      for ( int j = 0; j < rows;j++) {\n",
    "        fill(statesColor[board[i][j]]);\n",
    "        stroke(0);\n",
    "        rect(i*w, j*w, w, w);\n",
    "      }\n",
    "    }\n",
    "  }\n",
    "}\n",
    "\n",
    "// Objeto con los datos del tablero\n",
    "GOL gol;\n",
    "\n",
    "// Inicio\n",
    "void setup() {\n",
    "    checkParams(); // Comprobacion de que los parametros son correctos\n",
    "    size(640, 320); // Dimensiones del tablero (pixels)\n",
    "    frameRate(refreshRate); // Velocidad de refresco\n",
    "    gol = new GOL();\n",
    "}\n",
    "\n",
    "// Dibujar\n",
    "void draw() {\n",
    "    gol.generate(); // Calcular siguiente generacion\n",
    "    gol.display(); // Mostrar nuevo tablero\n",
    "}\n",
    "\n",
    "// Reiniciar el tablero cuando se pulsa el raton\n",
    "void mousePressed() {\n",
    "    gol.init();\n",
    "}\n",
    "\n",
    "// Comprobar si hay algun error en los parametros de configuracion\n",
    "void checkParams() {\n",
    "    if (statesSize!=statesProbability.length) {\n",
    "        println(\"El vector de probabilidades debe tener una longitud de \"+str(statesSize)+\" estados.\");\n",
    "    }\n",
    "    int total = 0;\n",
    "    for (int i=0; i<statesProbability.length; i++) { total=total+statesProbability[i]; }\n",
    "    if (total!=100) {\n",
    "        println(\"El vector de probabilidades debe sumar 100.\");\n",
    "    }\n",
    "}\n",
    "\n",
    "\n",
    "\n"
   ]
  },
  {
   "cell_type": "markdown",
   "metadata": {},
   "source": []
  }
 ],
 "metadata": {
  "kernelspec": {
   "display_name": "Python 3",
   "language": "python",
   "name": "python3"
  },
  "language_info": {
   "codemirror_mode": {
    "name": "ipython",
    "version": 3
   },
   "file_extension": ".py",
   "mimetype": "text/x-python",
   "name": "python",
   "nbconvert_exporter": "python",
   "pygments_lexer": "ipython3",
   "version": "3.6.0"
  }
 },
 "nbformat": 4,
 "nbformat_minor": 2
}
