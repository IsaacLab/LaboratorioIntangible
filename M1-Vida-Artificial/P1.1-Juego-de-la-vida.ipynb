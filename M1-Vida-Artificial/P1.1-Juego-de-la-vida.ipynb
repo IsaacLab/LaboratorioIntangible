{
 "cells": [
  {
   "cell_type": "markdown",
   "metadata": {},
   "source": [
    "\n",
    "# El Juego de la Vida\n",
    "\n",
    "Para comprender los principios matemáticos de la vida vamos a crear un sistema lo más sencillo posible. Dispondremos de un tablero dividido en filas y columnas, en el que cada casilla (*celda*) sólo puede estar viva (*activa*) o muerta (*inactiva*). Estos elementos tan simples nos permitirán estudiar los detalles de cómo trabajan los sistemas complejos.\n",
    "\n",
    "Estas reglas nos están definiendo un automáta celular. Su definición concreta la veremos en la siguiente práctica. El juego de la vida es un autómata celular de dos dimensiones con dos estados, ya que cada celda sólo tiene dos posibilidades: estar viva o muerta.\n",
    "\n",
    "\n",
    "\n",
    "\n",
    "\n",
    "Iniciaremos este tablero aleatoriamente, es decir que las celdas estarán activas o inactivas según una probabilidad inicial. Por ejemplo, una probabilidad del 50% hará que inicialmente cada celda tengan las mismas pobailidades de estar viva que de estar muerta.\n",
    "\n",
    "\n",
    "\n",
    "\n",
    "**Hacer resumen de:**\n",
    "http://natureofcode.com/book/chapter-7-cellular-automata\n"
   ]
  },
  {
   "cell_type": "markdown",
   "metadata": {
    "collapsed": false
   },
   "source": [
    "### Simulación del Juego de la Vida"
   ]
  },
  {
   "cell_type": "code",
   "execution_count": 22,
   "metadata": {
    "collapsed": false
   },
   "outputs": [
    {
     "data": {
      "text/html": [
       "<iframe src=\"https://www.openprocessing.org/sketch/431684/embed/\" width=\"640\" height=\"480\"></iframe>"
      ],
      "text/plain": [
       "<IPython.core.display.HTML object>"
      ]
     },
     "metadata": {},
     "output_type": "display_data"
    }
   ],
   "source": [
    "%%HTML\n",
    "<iframe src=\"https://www.openprocessing.org/sketch/431684/embed/\" width=\"640\" height=\"480\"></iframe>"
   ]
  },
  {
   "cell_type": "code",
   "execution_count": null,
   "metadata": {
    "collapsed": true
   },
   "outputs": [],
   "source": []
  }
 ],
 "metadata": {
  "celltoolbar": "Edit Metadata",
  "kernelspec": {
   "display_name": "Python 3",
   "language": "python",
   "name": "python3"
  },
  "language_info": {
   "codemirror_mode": {
    "name": "ipython",
    "version": 3
   },
   "file_extension": ".py",
   "mimetype": "text/x-python",
   "name": "python",
   "nbconvert_exporter": "python",
   "pygments_lexer": "ipython3",
   "version": "3.6.0"
  }
 },
 "nbformat": 4,
 "nbformat_minor": 2
}
