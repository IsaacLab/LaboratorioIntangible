{
 "cells": [
  {
   "cell_type": "markdown",
   "metadata": {},
   "source": [
    "# Autómatas celulares\n",
    "\n",
    "Un *Autómata Celular* es un modelo de un sistema de celdas con las siguientes características:\n",
    "- Las celdas viven en un tablero. En este curso veremos tableros de una y dos dimensiones.\n",
    "- Cada celda tiene un estado. El número de estados posibles es normalmente finito, en este caso serán dos: viva o muerta.\n",
    "- Cada celda tiene una vecindad. Esta característica puede definirse de muchas formas, aunque lo normal es que sean las celdas topológicamente adyacentes.\n",
    "\n",
    "\n"
   ]
  }
 ],
 "metadata": {
  "kernelspec": {
   "display_name": "Python 3",
   "language": "python",
   "name": "python3"
  },
  "language_info": {
   "codemirror_mode": {
    "name": "ipython",
    "version": 3
   },
   "file_extension": ".py",
   "mimetype": "text/x-python",
   "name": "python",
   "nbconvert_exporter": "python",
   "pygments_lexer": "ipython3",
   "version": "3.6.0"
  }
 },
 "nbformat": 4,
 "nbformat_minor": 2
}
