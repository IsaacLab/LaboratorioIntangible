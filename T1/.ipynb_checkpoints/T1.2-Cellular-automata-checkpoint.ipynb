{
 "cells": [
  {
   "cell_type": "markdown",
   "metadata": {},
   "source": [
    "# Cellular Automata\n",
    "\n",
    "In a nutshell, a cellular automaton (CA) is a model of a system of **cell** objects with the following characteristics:\n",
    "\n",
    "- The cells live on a **grid**. We'll see examples in both one and two dimensions, though a cellular automaton can exist in any finite number of dimensions.\n",
    "- Each cell has a **state**. The number of state possibilities is typically finite. The simplest example has the two possibilities of 1 and 0 (otherwise referred to as “on” and “off” or “alive” and “dead”).\n",
    "- Each cell has a **neighborhood**. This can be defined in any number of ways, but it is typically a list of adjacent cells.\n",
    "<br>![](http://natureofcode.com/book/imgs/chapter07/ch07_01.png)\n",
    "\n",
    "Here, we will simplify the neighborhood to just a single dimension, a straight line. The produced generation of the automata at the next time-step will be shown as a second line just below the first one, and son on, so finally we will obtain a 2D figure representing the time evolution of the automata.\n",
    "\n",
    "There will appear different kind of figures, patterns that we will be able to recognize and classify according the rules of the automata. Some of them are very basic, but some other display an astonishing complex behaviour with such simple rules.\n",
    "\n",
    "\n",
    "# 1. Wolfram's automata\n",
    "\n",
    "Perhaps the most significant scientific (and lengthy) work studying cellular automata arrived in 2002 Stephen Wolfram’s A New Kind of Science, available online in its entirety for free.\n",
    "\n",
    "What is the simplest cellular automaton we can imagine? What are the three key elements of a CA?\n",
    "\n",
    "1. Grid. The simplest grid would be one-dimensional: a line of cells.\n",
    "<br>![](http://natureofcode.com/book/imgs/chapter07/ch07_02.png)<br>\n",
    "2. States. The simplest set of states (beyond having only one state) would be two states: 0 or 1.\n",
    "<br>![](http://natureofcode.com/book/imgs/chapter07/ch07_03.png)<br>\n",
    "3. Neighborhood. The simplest neighborhood in one dimension for any given cell would be the cell itself and its two adjacent neighbors: one to the left and one to the right.\n",
    "<br>![](http://natureofcode.com/book/imgs/chapter07/ch07_04.png)<br>\n",
    "\n",
    "The most important detail of how cellular automata is work—time. We’re not really talking about real-world time here, but about the CA living over a period of time, which could also be called a **generation** and, in our case, will likely refer to the frame count of an animation. The figures above show us the CA at time equals 0 or generation 0. The questions we have to ask ourselves are: How do we compute the states for all cells at generation 1? And generation 2? And so on and so forth.\n",
    "\n",
    "A cell’s new state is a function of all the states in the cell’s neighborhood at the previous moment in time (or during the previous generation). We calculate a new state value by looking at all the previous neighbor states.\n",
    "<br>![](http://natureofcode.com/book/imgs/chapter07/ch07_07.png)<br>\n",
    "\n",
    "In Wolfram’s elementary CA, we look at all the possible configurations of a cell and its neighbor and define the state outcome for every possible configuration. We have three cells, each with a state of 0 or 1. How many possible ways can we configure the states? Up to 8. We therefore define a “ruleset” as a list of 8 bits.\n",
    "<br>![](http://natureofcode.com/book/imgs/chapter07/ch07_09.png)<br>\n",
    "\n",
    "Eight 0s and 1s means an 8-bit number. How many combinations of eight 0s and 1s are there? 256. In terms of a Wolfram elementary CA, we have now discovered that there are 256 possible rulesets. The above ruleset is commonly referred to as “Rule 90” because if you convert the binary sequence—01011010—to a decimal number, you’ll get the integer 90. The low-resolution shape we’re seeing above is the “Sierpiński triangle.” It’s a fractal pattern."
   ]
  },
  {
   "cell_type": "markdown",
   "metadata": {},
   "source": [
    "## 1.1. Exercise\n",
    "This sketch shows a Wolfram automata. Feel free to check the algorithm clicking on the </> icon inside the OpenProcessing link\n",
    "- In the code, go to the function initWolfram() and modify it to apply new rulesets to the automata.\n",
    "- Check the ruleset, testing that the rules are performed between one line and the line below.\n",
    "- Observe the patterns for each ruleset. Some of them are very simple to infer from the ruleset, other are not."
   ]
  },
  {
   "cell_type": "code",
   "execution_count": 1,
   "metadata": {
    "collapsed": false,
    "scrolled": false
   },
   "outputs": [
    {
     "data": {
      "text/html": [
       "<iframe src=\"https://www.openprocessing.org/sketch/433326/embed/\" width=\"750\" height=\"358\"></iframe>"
      ],
      "text/plain": [
       "<IPython.core.display.HTML object>"
      ]
     },
     "metadata": {},
     "output_type": "display_data"
    }
   ],
   "source": [
    "%%HTML\n",
    "<iframe src=\"https://www.openprocessing.org/sketch/433326/embed/\" width=\"750\" height=\"358\"></iframe>"
   ]
  },
  {
   "cell_type": "markdown",
   "metadata": {},
   "source": [
    "# 2. Wolfram Classification\n",
    "\n",
    "The vast majority of elementary CA rulesets produce uninspiring results, while some result in wondrously complex patterns like those found in nature. Wolfram has divided up the range of outcomes into four classes:\n",
    "\n",
    "### Class 1: Uniformity\n",
    "Class 1 CAs end up, after some number of generations, with every cell constant. This is not terribly exciting to watch. Rule 222 is a class 1; if you run it for enough generations, every cell will eventually become and remain black.\n",
    "<br>![](wolfram-class1.png)\n",
    "\n",
    "### Class 2: Repetition\n",
    "Like class 1, class 2 remain stable, but the cell states are not constant. Rather, they oscillate in some regular pattern back and forth from 0 to 1 to 0 to 1 and so on. In rule 190, each cell follows the sequence 11101110111011101110.\n",
    "<br>![](wolfram-class2.png)\n",
    "\n",
    "### Class 3: Random\n",
    "Class 3 appears random and have no easily discernible pattern. In fact, rule 30 is used as a random number generator in Wolfram’s Mathematica software. Again, this is a moment where we can feel amazed that such a simple system with simple rules can descend into a chaotic and random pattern.\n",
    "<br>![](wolfram-class3.png)\n",
    "\n",
    "### Class 4: Complexity\n",
    "Class 4 can be thought of as a mix between class 2 and class 3. One can find repetitive, oscillating patterns inside the CA, but where and when these patterns appear is unpredictable and seemingly random. Class 4 exhibits the properties of complex systems that we described earlier in this chapter and in Chapter 6. If a class 3 wowed you, then a class 4 like Rule 110 above should really blow your mind\n",
    "<br>![](wolfram-class4.png)\n"
   ]
  },
  {
   "cell_type": "markdown",
   "metadata": {},
   "source": [
    "## 2.1. Exercise\n",
    "Here are some examples of patterns generated from different rulesets.\n",
    "- Classify them according the groups above mentioned.\n",
    "<br>![](wolfram-rulesets.png)\n",
    "\n"
   ]
  },
  {
   "cell_type": "markdown",
   "metadata": {},
   "source": [
    "## 2.2. Exercise\n",
    "A way to measure the complexity of a system is to check when a pattern is repeated. So we will compare every new generation (i.e. line) with each of the previous generations. As longer the number of generations in-between, as more complex will be the system.\n",
    "In the example below:\n",
    "- Set the ruleset 222 and run the simulation. Write down the pair of values, Lambda and Complexity, for each of the rulesets.\n",
    "- Repeat the operation for the rulesets 190, 30, and 110.\n",
    "- Enter the values in the edit below (be careful with the format!) and analyse the graph."
   ]
  },
  {
   "cell_type": "code",
   "execution_count": 2,
   "metadata": {
    "collapsed": false,
    "scrolled": true
   },
   "outputs": [
    {
     "data": {
      "text/html": [
       "<iframe src=\"https://www.openprocessing.org/sketch/433886/embed/\" width=\"350\" height=\"358\"></iframe>"
      ],
      "text/plain": [
       "<IPython.core.display.HTML object>"
      ]
     },
     "metadata": {},
     "output_type": "display_data"
    }
   ],
   "source": [
    "%%HTML\n",
    "<iframe src=\"https://www.openprocessing.org/sketch/433886/embed/\" width=\"350\" height=\"358\"></iframe>"
   ]
  },
  {
   "cell_type": "code",
   "execution_count": 3,
   "metadata": {
    "collapsed": false,
    "scrolled": true
   },
   "outputs": [],
   "source": [
    "from ipywidgets import widgets\n",
    "from IPython.display import display\n",
    "import numpy as np\n",
    "import re\n",
    "from matplotlib import pyplot as plt\n",
    "%matplotlib inline\n",
    "\n",
    "def handle_submit(sender):\n",
    "    all = np.fromiter((item.group() for item in re.finditer(r'\\d+', text.value)), dtype=np.int64).reshape((-1, 2)) \n",
    "    plt.plot(all[:,0],all[:,1],'o-')\n",
    "text = widgets.Text(description=\"Values\")\n",
    "text.on_submit(handle_submit)\n",
    "display(widgets.Label(\"Enter list of (Lambda,C) values as a list of tuples. E.g. \\\"(0,10),(1,20),(3,25)\\\"\"))\n",
    "display(text)"
   ]
  },
  {
   "cell_type": "markdown",
   "metadata": {},
   "source": [
    "# References\n",
    "- Shiffman, Daniel, Shannon Fry, and Zannah Marsh. The nature of code. D. Shiffman, 2012. Available online at http://natureofcode.com/book/chapter-7-cellular-automata/\n",
    "- Wolfram, Stephen. A new kind of science. Vol. 5. Champaign: Wolfram media, 2002. Available online at: https://www.wolframscience.com"
   ]
  }
 ],
 "metadata": {
  "kernelspec": {
   "display_name": "Python 3",
   "language": "python",
   "name": "python3"
  },
  "language_info": {
   "codemirror_mode": {
    "name": "ipython",
    "version": 3
   },
   "file_extension": ".py",
   "mimetype": "text/x-python",
   "name": "python",
   "nbconvert_exporter": "python",
   "pygments_lexer": "ipython3",
   "version": "3.6.0"
  },
  "widgets": {
   "state": {
    "36dd0f011b87431aae14c7e192051207": {
     "views": [
      {
       "cell_index": 7
      }
     ]
    },
    "5977f828b803484084cecd9cce96ca82": {
     "views": [
      {
       "cell_index": 7
      }
     ]
    }
   },
   "version": "1.2.0"
  }
 },
 "nbformat": 4,
 "nbformat_minor": 2
}
