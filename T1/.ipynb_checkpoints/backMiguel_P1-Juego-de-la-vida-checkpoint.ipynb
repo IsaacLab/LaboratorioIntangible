{
 "cells": [
  {
   "cell_type": "code",
   "execution_count": 2,
   "metadata": {
    "collapsed": false
   },
   "outputs": [],
   "source": [
    "from metakernel import register_ipython_magics\n",
    "register_ipython_magics()"
   ]
  },
  {
   "cell_type": "markdown",
   "metadata": {
    "collapsed": false
   },
   "source": [
    "We used a one-dimensional array to store the list of cell states before, and for the Game of Life, we can use a two-dimensional array.\n",
    "We’ll begin by initializing each cell of the board with a random state: 0 or 1."
   ]
  },
  {
   "cell_type": "code",
   "execution_count": 6,
   "metadata": {
    "collapsed": false,
    "scrolled": true
   },
   "outputs": [
    {
     "data": {
      "text/html": [
       "\n",
       "<canvas id=\"canvas_4\"></canvas>\n",
       "<script>\n",
       "require([window.location.protocol + \"//calysto.github.io/javascripts/processing/processing.js\"], function () {\n",
       "    var processingCode = '\\n// The Nature of Code\\n// Daniel Shiffman\\n// http://natureofcode.com\\n\\nclass GOL {\\n\\n  int w = 8;\\n  int columns, rows;\\n\\n  // Game of life board\\n  int[][] board;\\n\\n\\n  GOL() {\\n    // Initialize rows, columns and set-up arrays\\n    columns = width/w;\\n    rows = height/w;\\n    board = new int[columns][rows];\\n    //next = new int[columns][rows];\\n    // Call function to fill array with random values 0 or 1\\n    init();\\n  }\\n\\n  void init() {\\n    for (int i =1;i < columns-1;i++) {\\n      for (int j =1;j < rows-1;j++) {\\n        board[i][j] = int(random(2));\\n      }\\n    }\\n  }\\n\\n  // The process of creating the new generation\\n  void generate() {\\n\\n    int[][] next = new int[columns][rows];\\n\\n    // Loop through every spot in our 2D array and check spots neighbors\\n    for (int x = 1; x < columns-1; x++) {\\n      for (int y = 1; y < rows-1; y++) {\\n\\n        // Add up all the states in a 3x3 surrounding grid\\n        int neighbors = 0;\\n        for (int i = -1; i <= 1; i++) {\\n          for (int j = -1; j <= 1; j++) {\\n            neighbors += board[x+i][y+j];\\n          }\\n        }\\n\\n        // A little trick to subtract the current cell\\'s state since\\n        // we added it in the above loop\\n        neighbors -= board[x][y];\\n\\n        // Rules of Life\\n        max_neighbors = 3\\n        min_neighbors = 2\\n          \\n        if      ((board[x][y] == 1) && (neighbors <  min_neighbors)) next[x][y] = 0;           // Loneliness\\n        else if ((board[x][y] == 1) && (neighbors >  max_neighbors)) next[x][y] = 0;           // Overpopulation\\n        else if ((board[x][y] == 0) && (neighbors == 3)) next[x][y] = 1;           // Reproduction\\n        else                                            next[x][y] = board[x][y];  // Stasis\\n      }\\n    }\\n\\n    // Next is now our board\\n    board = next;\\n  }\\n\\n  // This is the easy part, just draw the cells, fill 255 for \\'1\\', fill 0 for \\'0\\'\\n  void display() {\\n    for ( int i = 0; i < columns;i++) {\\n      for ( int j = 0; j < rows;j++) {\\n        if ((board[i][j] == 1)) fill(0);\\n        else fill(255); \\n        stroke(0);\\n        rect(i*w, j*w, w, w);\\n      }\\n    }\\n  }\\n}\\n\\n\\n\\n// The Nature of Code\\n// Daniel Shiffman\\n// http://natureofcode.com\\n\\n// A basic implementation of John Conway\\'s Game of Life CA\\n// how could this be improved to use object oriented programming?\\n// think of it as similar to our particle system, with a \"cell\" class\\n// to describe each individual cell and a \"cellular automata\" class\\n// to describe a collection of cells\\n\\nGOL gol;\\n\\nvoid setup() {\\n  size(640, 320);\\n  frameRate(24);\\n  gol = new GOL();\\n}\\n\\nvoid draw() {\\n  background(255);\\n\\n  gol.generate();\\n  gol.display();\\n}\\n\\n// reset board when mouse is pressed\\nvoid mousePressed() {\\n  gol.init();\\n}';\n",
       "    var cc = Processing.compile(processingCode);\n",
       "    var processingInstance = new Processing(\"canvas_4\", cc);\n",
       "});\n",
       "</script>\n"
      ],
      "text/plain": [
       "<IPython.core.display.HTML object>"
      ]
     },
     "metadata": {},
     "output_type": "display_data"
    }
   ],
   "source": [
    "%%processing\n",
    "\n",
    "// The Nature of Code\n",
    "// Daniel Shiffman\n",
    "// http://natureofcode.com\n",
    "\n",
    "class GOL {\n",
    "\n",
    "  int w = 8;\n",
    "  int columns, rows;\n",
    "\n",
    "  // Game of life board\n",
    "  int[][] board;\n",
    "\n",
    "\n",
    "  GOL() {\n",
    "    // Initialize rows, columns and set-up arrays\n",
    "    columns = width/w;\n",
    "    rows = height/w;\n",
    "    board = new int[columns][rows];\n",
    "    //next = new int[columns][rows];\n",
    "    // Call function to fill array with random values 0 or 1\n",
    "    init();\n",
    "  }\n",
    "\n",
    "  void init() {\n",
    "    for (int i =1;i < columns-1;i++) {\n",
    "      for (int j =1;j < rows-1;j++) {\n",
    "        board[i][j] = int(random(2));\n",
    "      }\n",
    "    }\n",
    "  }\n",
    "\n",
    "  // The process of creating the new generation\n",
    "  void generate() {\n",
    "\n",
    "    int[][] next = new int[columns][rows];\n",
    "\n",
    "    // Loop through every spot in our 2D array and check spots neighbors\n",
    "    for (int x = 1; x < columns-1; x++) {\n",
    "      for (int y = 1; y < rows-1; y++) {\n",
    "\n",
    "        // Add up all the states in a 3x3 surrounding grid\n",
    "        int neighbors = 0;\n",
    "        for (int i = -1; i <= 1; i++) {\n",
    "          for (int j = -1; j <= 1; j++) {\n",
    "            neighbors += board[x+i][y+j];\n",
    "          }\n",
    "        }\n",
    "\n",
    "        // A little trick to subtract the current cell's state since\n",
    "        // we added it in the above loop\n",
    "        neighbors -= board[x][y];\n",
    "\n",
    "        // Rules of Life\n",
    "        max_neighbors = 3\n",
    "        min_neighbors = 2\n",
    "          \n",
    "        if      ((board[x][y] == 1) && (neighbors <  min_neighbors)) next[x][y] = 0;           // Loneliness\n",
    "        else if ((board[x][y] == 1) && (neighbors >  max_neighbors)) next[x][y] = 0;           // Overpopulation\n",
    "        else if ((board[x][y] == 0) && (neighbors == 3)) next[x][y] = 1;           // Reproduction\n",
    "        else                                            next[x][y] = board[x][y];  // Stasis\n",
    "      }\n",
    "    }\n",
    "\n",
    "    // Next is now our board\n",
    "    board = next;\n",
    "  }\n",
    "\n",
    "  // This is the easy part, just draw the cells, fill 255 for '1', fill 0 for '0'\n",
    "  void display() {\n",
    "    for ( int i = 0; i < columns;i++) {\n",
    "      for ( int j = 0; j < rows;j++) {\n",
    "        if ((board[i][j] == 1)) fill(0);\n",
    "        else fill(255); \n",
    "        stroke(0);\n",
    "        rect(i*w, j*w, w, w);\n",
    "      }\n",
    "    }\n",
    "  }\n",
    "}\n",
    "\n",
    "\n",
    "\n",
    "// The Nature of Code\n",
    "// Daniel Shiffman\n",
    "// http://natureofcode.com\n",
    "\n",
    "// A basic implementation of John Conway's Game of Life CA\n",
    "// how could this be improved to use object oriented programming?\n",
    "// think of it as similar to our particle system, with a \"cell\" class\n",
    "// to describe each individual cell and a \"cellular automata\" class\n",
    "// to describe a collection of cells\n",
    "\n",
    "GOL gol;\n",
    "\n",
    "void setup() {\n",
    "  size(640, 320);\n",
    "  frameRate(24);\n",
    "  gol = new GOL();\n",
    "}\n",
    "\n",
    "void draw() {\n",
    "  background(255);\n",
    "\n",
    "  gol.generate();\n",
    "  gol.display();\n",
    "}\n",
    "\n",
    "// reset board when mouse is pressed\n",
    "void mousePressed() {\n",
    "  gol.init();\n",
    "}\n"
   ]
  },
  {
   "cell_type": "markdown",
   "metadata": {},
   "source": []
  },
  {
   "cell_type": "code",
   "execution_count": 9,
   "metadata": {
    "collapsed": false
   },
   "outputs": [
    {
     "data": {
      "text/plain": [
       "sys.version_info(major=3, minor=5, micro=2, releaselevel='final', serial=0)"
      ]
     },
     "execution_count": 9,
     "metadata": {},
     "output_type": "execute_result"
    }
   ],
   "source": [
    "import sys\n",
    "sys.version_info"
   ]
  },
  {
   "cell_type": "code",
   "execution_count": null,
   "metadata": {
    "collapsed": false,
    "scrolled": true
   },
   "outputs": [],
   "source": []
  }
 ],
 "metadata": {
  "kernelspec": {
   "display_name": "Python 3",
   "language": "python",
   "name": "python3"
  },
  "language_info": {
   "codemirror_mode": {
    "name": "ipython",
    "version": 3
   },
   "file_extension": ".py",
   "mimetype": "text/x-python",
   "name": "python",
   "nbconvert_exporter": "python",
   "pygments_lexer": "ipython3",
   "version": "3.6.0"
  }
 },
 "nbformat": 4,
 "nbformat_minor": 2
}
