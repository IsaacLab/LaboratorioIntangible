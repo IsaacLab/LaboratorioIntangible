{
 "cells": [
  {
   "cell_type": "markdown",
   "metadata": {
    "collapsed": false
   },
   "source": [
    "# Self-replicating automata\n",
    "\n",
    "A self-replicating machine is a type of autonomous robot that is capable of reproducing itself autonomously using raw materials found in the environment, thus exhibiting self-replication in a way analogous to that found in nature. This way, a self-replicating automata will reproduce its states in other places of the grid in a certain period of time.\n",
    "\n",
    "The concept of self-replicating automata was designed by John von Neumann in the 1940s, but was very complex due to be implemented. With some simplifications, Christopher Langton was able to significantly reduce the automaton's complexity. As well, some other self-replicating automata were developed afterwards, as the Byl and Chou-Reggia that we will see because its simplicity.\n",
    "\n",
    "\n",
    "# 1. Von Neumann cellular automata\n",
    "\n",
    "Von Neumann cellular automata are the original expression of cellular automata, the development of which were prompted by suggestions made to John von Neumann by his close friend and fellow mathematician Stanislaw Ulam. Their original purpose was to provide insight into the logical requirements for machine self-replication and were used in von Neumann's universal constructor.\n",
    "\n",
    "The neighborhood (a grouping function) is part of the state-transition function, and defines for any cell the set of other cells upon which the state of that cell depends. All cells transition state synchronously, in step with a universal \"clock\" as in a synchronous digital circuit. Each cell space can accept any of the 29 states of the rule-set.\n",
    "\n",
    "![](https://upload.wikimedia.org/wikipedia/commons/5/50/VonNeumann_CA_demo.gif)<br>"
   ]
  },
  {
   "cell_type": "markdown",
   "metadata": {
    "collapsed": true
   },
   "source": [
    "# 2. Langton's loop\n",
    "Langton's loop consist of a loop of cells containing genetic information, which flows continuously around the loop and out along an \"arm\" (or pseudopod), which will become the daughter loop. The \"genes\" instruct it to make three left turns, completing the loop, which then disconnects from its parent.\n",
    "Langton's Loops run in a CA that has 8 states, and uses the von Neumann neighborhood with rotational symmetry. Because of a particular property of the loops' \"pseudopodia\", they are unable to reproduce into the space occupied by another loop. Thus, once a loop is surrounded, it is incapable of reproducing, resulting in a coral-like colony with a thin layer of reproducing organisms surrounding a core of inactive \"dead\" organisms.\n",
    "## 2.1. Exercise\n",
    "Below there is a Langton's loop. run the simulation to observe its development and how its reproduced. \n",
    "- What are the functions of each type of cell? For instance, the red cells act as the membrane of the automata.\n",
    "\n",
    "In the code of the openProcessing web, open the \"Langton\" tab and take a look to the rules. There is an explanation about their meaning.\n",
    "- Do you think the alternative rules (line 69) are equivalent to the standard rules (line 35)? Init the alternative rules and see what happens. To do so, go to the \"mySketch\" tab and change line 27 to \"initAutomata(langtonFigure, langtonRules2);\"\n",
    "- Now, try to change some rules. You have some examples at the \"Langton\" tab, lines 65 and next. What does it do each modification and why?"
   ]
  },
  {
   "cell_type": "code",
   "execution_count": 1,
   "metadata": {
    "collapsed": false
   },
   "outputs": [
    {
     "data": {
      "text/html": [
       "<iframe src=\"https://www.openprocessing.org/sketch/433895/embed/\" width=\"640\" height=\"480\"></iframe>"
      ],
      "text/plain": [
       "<IPython.core.display.HTML object>"
      ]
     },
     "metadata": {},
     "output_type": "display_data"
    }
   ],
   "source": [
    "%%HTML\n",
    "<iframe src=\"https://www.openprocessing.org/sketch/433895/embed/\" width=\"640\" height=\"480\"></iframe>"
   ]
  },
  {
   "cell_type": "markdown",
   "metadata": {},
   "source": [
    "# 3. Byl's loop\n",
    "The Byl's loop was developed just a few years after Langton's loop. It simplified Langton's automaton, consisted of an array of 12 chips and 43 transition rules. Essentially, the simplification consisted in using fewer cellular states (6 as compared with Langton's 8) and a smaller replicating loop (12 cells as compared with Langton's 86).\n",
    "## 3.1. Exercise\n",
    "The Byl's loop is a simplification of the Langston's loop.\n",
    "- What are they differences? Number and function of the states, ruleset, etc."
   ]
  },
  {
   "cell_type": "code",
   "execution_count": 2,
   "metadata": {
    "collapsed": false
   },
   "outputs": [
    {
     "data": {
      "text/html": [
       "<iframe src=\"https://www.openprocessing.org/sketch/433896/embed/\" width=\"640\" height=\"480\"></iframe>"
      ],
      "text/plain": [
       "<IPython.core.display.HTML object>"
      ]
     },
     "metadata": {},
     "output_type": "display_data"
    }
   ],
   "source": [
    "%%HTML\n",
    "<iframe src=\"https://www.openprocessing.org/sketch/433896/embed/\" width=\"640\" height=\"480\"></iframe>"
   ]
  },
  {
   "cell_type": "markdown",
   "metadata": {},
   "source": [
    "# 4. Chou-Reggia loop\n",
    "A further reduction of the loop by removing all sheaths.\n",
    "## 4.1. Exercise\n",
    "Look at the below example of the Chou-Reggia's loop and define the differences with the previous loops.\n"
   ]
  },
  {
   "cell_type": "code",
   "execution_count": 1,
   "metadata": {
    "collapsed": false
   },
   "outputs": [
    {
     "data": {
      "text/html": [
       "<iframe src=\"https://www.openprocessing.org/sketch/431576/embed/\" width=\"650\" height=\"490\"></iframe>"
      ],
      "text/plain": [
       "<IPython.core.display.HTML object>"
      ]
     },
     "metadata": {},
     "output_type": "display_data"
    }
   ],
   "source": [
    "%%HTML\n",
    "<iframe src=\"https://www.openprocessing.org/sketch/433897/embed/\" width=\"640\" height=\"480\"></iframe>"
   ]
  },
  {
   "cell_type": "markdown",
   "metadata": {
    "collapsed": false,
    "scrolled": true
   },
   "source": [
    "# Reference\n",
    "- Wikipedia. [Von Neumann cellular automaton](https://en.wikipedia.org/wiki/Von_Neumann_cellular_automaton)\n",
    "- Wikipedia. [Langton's_loop](https://en.wikipedia.org/wiki/Langton's_loops)"
   ]
  }
 ],
 "metadata": {
  "kernelspec": {
   "display_name": "Python 3",
   "language": "python",
   "name": "python3"
  },
  "language_info": {
   "codemirror_mode": {
    "name": "ipython",
    "version": 3
   },
   "file_extension": ".py",
   "mimetype": "text/x-python",
   "name": "python",
   "nbconvert_exporter": "python",
   "pygments_lexer": "ipython3",
   "version": "3.6.0"
  }
 },
 "nbformat": 4,
 "nbformat_minor": 2
}
