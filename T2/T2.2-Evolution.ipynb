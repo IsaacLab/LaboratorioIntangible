{
 "cells": [
  {
   "cell_type": "markdown",
   "metadata": {
    "collapsed": false
   },
   "source": [
    "# Evolution\n",
    "\n",
    "In this section, we will learn how evolution works.\n",
    "\n",
    "After a brief introduction about genetic algorithms, the biomorphs will provide us a simple model to understand the genotype, and how its mutations create an exponential diversity of the fenotype of the individuals. But random diversity means not so much, so we will check how the combinatorial explosion can explore easily that diversity to transfom the nonsense to something understable. Next, the fitness of performing a task will be measured, in order to evolve a group of individuals suited to their environment. Finally, we will see the evolution of a system ecosystem of pseudo-living beings.\n",
    "\n",
    "# 1. Genetic algorithms\n",
    "\n",
    "The genetic algorithm is a method for solving both constrained and unconstrained optimization problems that is based on natural selection, the process that drives biological evolution. The genetic algorithm repeatedly modifies a population of individual solutions. At each step, the genetic algorithm selects individuals at random from the current population to be parents and uses them to produce the children for the next generation. Over successive generations, the population \"evolves\" toward something different.\n",
    "\n",
    "The genetic algorithm uses three main types of rules at each step to create the next generation from the current population:\n",
    "1. **Selection** rules select the individuals, called parents, that contribute to the population at the next generation.\n",
    "2. **Crossover** rules combine two parents to form children for the next generation.\n",
    "3. **Mutation** rules apply random changes to individual parents to form children.\n",
    "\n",
    "Firstly, we will see the mutation rule and its possibilities on a paradigmatic implementation: the biomorphs.\n",
    "\n",
    "\n",
    "# 2. Biomorphs\n",
    "\n",
    "In developing his argument that natural selection can explain the complex adaptations of organisms, Dawkins' first concern is to illustrate the difference between the potential for the development of complexity as a result of pure randomness, as opposed to that of randomness coupled with cumulative selection.\n",
    "\n",
    "The program displayed a two dimensional shape (a \"biomorph\") made up of straight black lines, the length, position, and angle of which were defined by a simple set of rules and instructions (analogous to a genome). Adding new lines (or removing them) based on these rules offered a discrete set of possible new shapes (mutations), which were displayed on screen so that the user could choose between them. The chosen mutation would then be the basis for another generation of biomorph mutants to be chosen from, and so on. Thus, the user, by selection, could steer the evolution of biomorphs. This process often produced images which were reminiscent of real organisms for instance beetles, bats, or trees. Dawkins speculated that the unnatural selection role played by the user in this program could be replaced by a more natural agent if, for example, colourful biomorphs could be selected by butterflies or other insects, via a touch sensitive display set up in a garden.\n",
    "\n",
    "![](biom-shapes.png)<br>"
   ]
  },
  {
   "cell_type": "markdown",
   "metadata": {},
   "source": [
    "## 2.1. Exercise\n",
    "In the example below, the genoma of the biomorph is expressed at the center picture. The surrounding pictures are mutations, each of them a little variation on one of the original genes. If a gene is at its limit value, then the corresponding picture is grey coloured. and it is not able to mutate it.\n",
    "- Mutate the biomorph looking for different fenotypes.\n",
    "- Find the mutations that produce the greatest variations."
   ]
  },
  {
   "cell_type": "code",
   "execution_count": 2,
   "metadata": {
    "collapsed": false
   },
   "outputs": [
    {
     "data": {
      "text/html": [
       "<iframe src=\"https://www.openprocessing.org/sketch/431860/embed/\" width=\"611\" height=\"611\"></iframe>"
      ],
      "text/plain": [
       "<IPython.core.display.HTML object>"
      ]
     },
     "metadata": {},
     "output_type": "display_data"
    }
   ],
   "source": [
    "%%HTML\n",
    "<iframe src=\"https://www.openprocessing.org/sketch/431860/embed/\" width=\"611\" height=\"611\"></iframe>"
   ]
  },
  {
   "cell_type": "markdown",
   "metadata": {},
   "source": [
    "## 2.2. Exercise\n",
    "Now you know about changing the genoma by mutations, let's try to do some genetic interchange.\n",
    "\n",
    "Below these lines, you have a genoma to start with. As well, you have received an image of the fenotype you want to get. To reach that goal, you can exchange you genoma with your partners. Find a partner with a fenotype you are interested in and modidy half of your genotype with him/her. Analyse the results and continue exchanging your genoma until your goal is acahieved."
   ]
  },
  {
   "cell_type": "code",
   "execution_count": 20,
   "metadata": {
    "collapsed": false
   },
   "outputs": [],
   "source": [
    "from ipywidgets import widgets\n",
    "from IPython.display import display\n",
    "from random import randint\n",
    "import numpy as np\n",
    "%matplotlib inline\n",
    "\n",
    "def newGenome():\n",
    "    genome = [randint(0,9) for i in range(9)]\n",
    "    genome[8] = genome[8]+3\n",
    "    return (\", \".join(map(str, genome)))\n",
    "display(widgets.Label(\"Your genome is: [ \"+newGenome()+\" ]\"))\n"
   ]
  },
  {
   "cell_type": "code",
   "execution_count": 1,
   "metadata": {
    "collapsed": false,
    "scrolled": true
   },
   "outputs": [
    {
     "data": {
      "text/html": [
       "<iframe src=\"https://www.openprocessing.org/sketch/432104/embed/\" width=\"610\" height=\"610\"></iframe>"
      ],
      "text/plain": [
       "<IPython.core.display.HTML object>"
      ]
     },
     "metadata": {},
     "output_type": "display_data"
    }
   ],
   "source": [
    "%%HTML\n",
    "<iframe src=\"https://www.openprocessing.org/sketch/432104/embed/\" width=\"610\" height=\"610\"></iframe>"
   ]
  },
  {
   "cell_type": "markdown",
   "metadata": {},
   "source": [
    "# 3. Shakespeare\n",
    "\n",
    "The “infinite monkey theorem” is stated as follows: A monkey hitting keys randomly on a typewriter will eventually type the complete works of Shakespeare (given an infinite amount of time). The problem with this theory is that the probability of said monkey actually typing Shakespeare is so low that even if that monkey started at the Big Bang, it’s unbelievably unlikely we’d even have Hamlet at this point.\n",
    "\n",
    "Let’s consider the phrase “to be or not to be that is the question” (we’re simplifying it from the original “To be, or not to be: that is the question”). The phrase is 39 characters and the probability of the monkey hitting any given key is one in twenty-seven, so the probability the monkey typing the full phrase is (1/27)^39, i.e. one over 66·10^54. Even a computer simulation typing one million random phrases per second, that means typing for 10^15 years (Note that the age of the universe is estimated to be a mere 14·10^9 years).\n",
    "\n",
    "We will apply a genetic algorithm to solve this task. First, we will create a population of randomly generated sentences of 39 characters. Then, we will compare the original sentence with the random sentences to compute their **fitness**, in this case the percentage of matched characters. The result is an evaluation mark for each random sentence.\n",
    "\n",
    "Now, there are different ways to apply **selection**. For example, we could employ what is known as the elitist method and say, “Which two members of the population scored the highest? You two will make all the children for the next generation.” This is probably one of the easier methods to program; however, it flies in the face of the principle of variation: little variety may stunt the evolutionary process, as there could be entire families of variations not evaluated. A better solution is to use a probabilistic method, which we’ll call the “wheel of fortune” (also known as the “roulette wheel”). We will assign a probability of selection for each sentence proportional to its score.\n",
    "\n",
    "Now that we have a strategy for picking parents, we need to figure out how to use reproduction to make the population’s next generation, keeping in mind the Darwinian principle of heredity—that children inherit properties from their parents.  The standard approach with genetic algorithms is to pick two parents and create a child applying crossover. Crossover involves creating a child out of the genetic code of two parents.\n",
    "\n",
    "Let’s assume we’ve picked two phrases: FORK and PLAY. We will pick up a cutting point and we will take the first part from one parent and the secong part from the other parent. For instance, a cutting point at the first-second character will produce the children FLAY and PORK, at the second-third character will be FOAY and PLRK, and so on.\n",
    "\n",
    "Finally, we will mutate randomly the children to introduce additional variety throughout the evolutionary process itself. \n",
    "\n",
    "## 3.1. Exercise\n",
    "\n",
    "The result of the previous explanation is this simulation. To analise the influence of the parameters of the genetic algorithm, open the code and change the variables of population (popmax) and mutation (mutationRate) at lines 48 and 49.\n",
    "- With a fixed mutation rate of 1 %, try population from 250 to 50.000 individuals.\n",
    "- With a fixed population of 1000 individuals, try mutation rates from 0 % to 10 %.\n",
    "- For each simulation, annotate the number of generations and total time until the phrase is solved. What are the conclusions?\n",
    "- As well, it is possible to change the fitness function. On the tab \"DNA\", modify the line 47 to other equation. For instance: fitness = log( 1e-10 + (float)score / (float)target.length() );  What are the implications of changing this formula?\n"
   ]
  },
  {
   "cell_type": "code",
   "execution_count": 3,
   "metadata": {
    "collapsed": false,
    "scrolled": true
   },
   "outputs": [
    {
     "data": {
      "text/html": [
       "<iframe src=\"https://www.openprocessing.org/sketch/432793/embed/\" width=\"640\" height=\"360\"></iframe>"
      ],
      "text/plain": [
       "<IPython.core.display.HTML object>"
      ]
     },
     "metadata": {},
     "output_type": "display_data"
    }
   ],
   "source": [
    "%%HTML\n",
    "<iframe src=\"https://www.openprocessing.org/sketch/432793/embed/\" width=\"640\" height=\"360\"></iframe>"
   ]
  },
  {
   "cell_type": "markdown",
   "metadata": {},
   "source": [
    "# 4. Smart Rockets\n",
    "\n",
    "## 4.1. Exercise"
   ]
  },
  {
   "cell_type": "code",
   "execution_count": 4,
   "metadata": {
    "collapsed": false,
    "scrolled": true
   },
   "outputs": [
    {
     "data": {
      "text/html": [
       "<iframe src=\"https://www.openprocessing.org/sketch/432794/embed/\" width=\"640\" height=\"360\"></iframe>"
      ],
      "text/plain": [
       "<IPython.core.display.HTML object>"
      ]
     },
     "metadata": {},
     "output_type": "display_data"
    }
   ],
   "source": [
    "%%HTML\n",
    "<iframe src=\"https://www.openprocessing.org/sketch/432794/embed/\" width=\"640\" height=\"360\"></iframe>"
   ]
  },
  {
   "cell_type": "markdown",
   "metadata": {},
   "source": [
    "## 4.2. Exercise"
   ]
  },
  {
   "cell_type": "code",
   "execution_count": 5,
   "metadata": {
    "collapsed": false,
    "scrolled": true
   },
   "outputs": [
    {
     "data": {
      "text/html": [
       "<iframe src=\"https://www.openprocessing.org/sketch/432795/embed/\" width=\"640\" height=\"360\"></iframe>"
      ],
      "text/plain": [
       "<IPython.core.display.HTML object>"
      ]
     },
     "metadata": {},
     "output_type": "display_data"
    }
   ],
   "source": [
    "%%HTML\n",
    "<iframe src=\"https://www.openprocessing.org/sketch/432795/embed/\" width=\"640\" height=\"360\"></iframe>"
   ]
  },
  {
   "cell_type": "markdown",
   "metadata": {},
   "source": [
    "# 5. Evolution Eco-system\n",
    "\n",
    "## 5.1. Exercise"
   ]
  },
  {
   "cell_type": "code",
   "execution_count": 6,
   "metadata": {
    "collapsed": false,
    "scrolled": true
   },
   "outputs": [
    {
     "data": {
      "text/html": [
       "<iframe src=\"https://www.openprocessing.org/sketch/432796/embed/\" width=\"640\" height=\"360\"></iframe>"
      ],
      "text/plain": [
       "<IPython.core.display.HTML object>"
      ]
     },
     "metadata": {},
     "output_type": "display_data"
    }
   ],
   "source": [
    "%%HTML\n",
    "<iframe src=\"https://www.openprocessing.org/sketch/432796/embed/\" width=\"640\" height=\"360\"></iframe>"
   ]
  },
  {
   "cell_type": "markdown",
   "metadata": {
    "collapsed": false,
    "scrolled": true
   },
   "source": [
    "# References\n",
    "- Dawkins, Richard. The blind watchmaker: Why the evidence of evolution reveals a universe without design. WW Norton & Company, 1986. Available at: https://faculty.iiit.ac.in/~bipin/files/Dawkins/Richard%20Dawkins%20-%20The%20Blind%20Watchmaker.pdf\n",
    "- MathWorks. [What Is the Genetic Algorithm?](https://es.mathworks.com/help/gads/what-is-the-genetic-algorithm.html)\n",
    "- Shiffman, Daniel, Shannon Fry, and Zannah Marsh. The nature of code. D. Shiffman, 2012. Available online at http://natureofcode.com/book/chapter-9-the-evolution-of-code/\n",
    "- Wikipedia. [The_Blind_Watchmaker](https://en.wikipedia.org/wiki/The_Blind_Watchmaker)\n"
   ]
  }
 ],
 "metadata": {
  "kernelspec": {
   "display_name": "Python 3",
   "language": "python",
   "name": "python3"
  },
  "language_info": {
   "codemirror_mode": {
    "name": "ipython",
    "version": 3
   },
   "file_extension": ".py",
   "mimetype": "text/x-python",
   "name": "python",
   "nbconvert_exporter": "python",
   "pygments_lexer": "ipython3",
   "version": "3.6.0"
  },
  "widgets": {
   "state": {
    "121b961cb42c4135b48e58ebfefd1c02": {
     "views": [
      {
       "cell_index": 4
      }
     ]
    }
   },
   "version": "1.2.0"
  }
 },
 "nbformat": 4,
 "nbformat_minor": 2
}
