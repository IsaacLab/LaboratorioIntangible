{
 "cells": [
  {
   "cell_type": "markdown",
   "metadata": {
    "collapsed": false
   },
   "source": [
    "# Evolution\n",
    "\n",
    "In this section, we will learn how evolution works.\n",
    "\n",
    "Firstly, the biomorphs provide us a simple model to understand the genotype, and how its mutations create an exponential diversity of the fenotype of an individual. But random diversity means not so much, so we will check how the combinatorial explosion can explore easily that diversity to transfom the nonsense to something understable. Next, the fitness of performing a task will be measured, in order to evolve a group of individuals suited to their environment. Finally, we will see the evolution of a system coexisted by different individuals.\n",
    "\n",
    "\n",
    "# 1. Biomorphs\n",
    "\n",
    "In developing his argument that natural selection can explain the complex adaptations of organisms, Dawkins' first concern is to illustrate the difference between the potential for the development of complexity as a result of pure randomness, as opposed to that of randomness coupled with cumulative selection.\n",
    "\n",
    "The program displayed a two dimensional shape (a \"biomorph\") made up of straight black lines, the length, position, and angle of which were defined by a simple set of rules and instructions (analogous to a genome). Adding new lines (or removing them) based on these rules offered a discrete set of possible new shapes (mutations), which were displayed on screen so that the user could choose between them. The chosen mutation would then be the basis for another generation of biomorph mutants to be chosen from, and so on. Thus, the user, by selection, could steer the evolution of biomorphs. This process often produced images which were reminiscent of real organisms for instance beetles, bats, or trees. Dawkins speculated that the unnatural selection role played by the user in this program could be replaced by a more natural agent if, for example, colourful biomorphs could be selected by butterflies or other insects, via a touch sensitive display set up in a garden.\n",
    "\n",
    "![](biom-shapes.png)<br>"
   ]
  },
  {
   "cell_type": "markdown",
   "metadata": {},
   "source": [
    "## 2.1. Exercise\n",
    "In the example below, the genoma of the biomorph is expressed at the center picture. The surrounding pictures are mutations, each of them a little variation on one of the genes. If a gene is at its limit value, then the corresponding picture is grey coloured. and it is not able to mutate it.\n",
    "- Mutate the biomorph looking for different fenotypes. Find the genes that produce greatest variations."
   ]
  },
  {
   "cell_type": "code",
   "execution_count": 2,
   "metadata": {
    "collapsed": false
   },
   "outputs": [
    {
     "data": {
      "text/html": [
       "<iframe src=\"https://www.openprocessing.org/sketch/431860/embed/\" width=\"611\" height=\"611\"></iframe>"
      ],
      "text/plain": [
       "<IPython.core.display.HTML object>"
      ]
     },
     "metadata": {},
     "output_type": "display_data"
    }
   ],
   "source": [
    "%%HTML\n",
    "<iframe src=\"https://www.openprocessing.org/sketch/431860/embed/\" width=\"611\" height=\"611\"></iframe>"
   ]
  },
  {
   "cell_type": "markdown",
   "metadata": {},
   "source": [
    "## 2.2. Exercise\n",
    "Now you know about changing the genoma by mutations, let's try to do some genetic interchange.\n",
    "\n",
    "Below these lines, you have a genoma to start with. As well, you have received an image of the fenotype you want to get. To reach that goal, you can exhange you genoma with your partners. Find a partner with a fenotype you are interested in and modidy half of your genotype with him/her. Analyse the results and continue exchanging your genoma until your goal is acahieved."
   ]
  },
  {
   "cell_type": "code",
   "execution_count": 1,
   "metadata": {
    "collapsed": false,
    "scrolled": true
   },
   "outputs": [
    {
     "data": {
      "text/html": [
       "<iframe src=\"https://www.openprocessing.org/sketch/432104/embed/\" width=\"610\" height=\"610\"></iframe>"
      ],
      "text/plain": [
       "<IPython.core.display.HTML object>"
      ]
     },
     "metadata": {},
     "output_type": "display_data"
    }
   ],
   "source": [
    "%%HTML\n",
    "<iframe src=\"https://www.openprocessing.org/sketch/432104/embed/\" width=\"610\" height=\"610\"></iframe>"
   ]
  },
  {
   "cell_type": "markdown",
   "metadata": {},
   "source": [
    "# 3. Shakespeare\n",
    "\n",
    "## 3.1. Exercise"
   ]
  },
  {
   "cell_type": "code",
   "execution_count": 3,
   "metadata": {
    "collapsed": false,
    "scrolled": true
   },
   "outputs": [
    {
     "data": {
      "text/html": [
       "<iframe src=\"https://www.openprocessing.org/sketch/432793/embed/\" width=\"640\" height=\"360\"></iframe>"
      ],
      "text/plain": [
       "<IPython.core.display.HTML object>"
      ]
     },
     "metadata": {},
     "output_type": "display_data"
    }
   ],
   "source": [
    "%%HTML\n",
    "<iframe src=\"https://www.openprocessing.org/sketch/432793/embed/\" width=\"640\" height=\"360\"></iframe>"
   ]
  },
  {
   "cell_type": "markdown",
   "metadata": {},
   "source": [
    "# 4. Smart Rockets\n",
    "\n",
    "## 4.1. Exercise"
   ]
  },
  {
   "cell_type": "code",
   "execution_count": 4,
   "metadata": {
    "collapsed": false,
    "scrolled": true
   },
   "outputs": [
    {
     "data": {
      "text/html": [
       "<iframe src=\"https://www.openprocessing.org/sketch/432794/embed/\" width=\"640\" height=\"360\"></iframe>"
      ],
      "text/plain": [
       "<IPython.core.display.HTML object>"
      ]
     },
     "metadata": {},
     "output_type": "display_data"
    }
   ],
   "source": [
    "%%HTML\n",
    "<iframe src=\"https://www.openprocessing.org/sketch/432794/embed/\" width=\"640\" height=\"360\"></iframe>"
   ]
  },
  {
   "cell_type": "markdown",
   "metadata": {},
   "source": [
    "## 4.2. Exercise"
   ]
  },
  {
   "cell_type": "code",
   "execution_count": 5,
   "metadata": {
    "collapsed": false,
    "scrolled": true
   },
   "outputs": [
    {
     "data": {
      "text/html": [
       "<iframe src=\"https://www.openprocessing.org/sketch/432795/embed/\" width=\"640\" height=\"360\"></iframe>"
      ],
      "text/plain": [
       "<IPython.core.display.HTML object>"
      ]
     },
     "metadata": {},
     "output_type": "display_data"
    }
   ],
   "source": [
    "%%HTML\n",
    "<iframe src=\"https://www.openprocessing.org/sketch/432795/embed/\" width=\"640\" height=\"360\"></iframe>"
   ]
  },
  {
   "cell_type": "markdown",
   "metadata": {},
   "source": [
    "# 5. Evolution Eco-system\n",
    "\n",
    "## 5.1. Exercise"
   ]
  },
  {
   "cell_type": "code",
   "execution_count": 6,
   "metadata": {
    "collapsed": false,
    "scrolled": true
   },
   "outputs": [
    {
     "data": {
      "text/html": [
       "<iframe src=\"https://www.openprocessing.org/sketch/432796/embed/\" width=\"640\" height=\"360\"></iframe>"
      ],
      "text/plain": [
       "<IPython.core.display.HTML object>"
      ]
     },
     "metadata": {},
     "output_type": "display_data"
    }
   ],
   "source": [
    "%%HTML\n",
    "<iframe src=\"https://www.openprocessing.org/sketch/432796/embed/\" width=\"640\" height=\"360\"></iframe>"
   ]
  },
  {
   "cell_type": "markdown",
   "metadata": {
    "collapsed": false,
    "scrolled": true
   },
   "source": [
    "# Reference\n",
    "- Dawkins, Richard. The blind watchmaker: Why the evidence of evolution reveals a universe without design. WW Norton & Company, 1986. Available at: https://faculty.iiit.ac.in/~bipin/files/Dawkins/Richard%20Dawkins%20-%20The%20Blind%20Watchmaker.pdf\n",
    "- Wikipedia. [The_Blind_Watchmaker](https://en.wikipedia.org/wiki/The_Blind_Watchmaker)"
   ]
  }
 ],
 "metadata": {
  "kernelspec": {
   "display_name": "Python 3",
   "language": "python",
   "name": "python3"
  },
  "language_info": {
   "codemirror_mode": {
    "name": "ipython",
    "version": 3
   },
   "file_extension": ".py",
   "mimetype": "text/x-python",
   "name": "python",
   "nbconvert_exporter": "python",
   "pygments_lexer": "ipython3",
   "version": "3.6.0"
  }
 },
 "nbformat": 4,
 "nbformat_minor": 2
}
