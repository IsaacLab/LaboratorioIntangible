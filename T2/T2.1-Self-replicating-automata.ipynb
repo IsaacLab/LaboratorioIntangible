{
 "cells": [
  {
   "cell_type": "markdown",
   "metadata": {
    "collapsed": false
   },
   "source": [
    "# 1. Self-replicating automata\n",
    "\n",
    "Von Neumann cellular automata are the original expression of cellular automata, the development of which were prompted by suggestions made to John von Neumann by his close friend and fellow mathematician Stanislaw Ulam. Their original purpose was to provide insight into the logical requirements for machine self-replication and were used in von Neumann's universal constructor.\n",
    "\n",
    "The neighborhood (a grouping function) is part of the state-transition function, and defines for any cell the set of other cells upon which the state of that cell depends. All cells transition state synchronously, in step with a universal \"clock\" as in a synchronous digital circuit. Each cell space can accept any of the 29 states of the rule-set.\n",
    "\n",
    "![](https://upload.wikimedia.org/wikipedia/commons/5/50/VonNeumann_CA_demo.gif)<br>"
   ]
  },
  {
   "cell_type": "markdown",
   "metadata": {
    "collapsed": true
   },
   "source": [
    "# 2. Other self-replicating automata\n",
    "### Langton's loop\n",
    "Langton's loop consist of a loop of cells containing genetic information, which flows continuously around the loop and out along an \"arm\" (or pseudopod), which will become the daughter loop. The \"genes\" instruct it to make three left turns, completing the loop, which then disconnects from its parent.\n",
    "Langton's Loops run in a CA that has 8 states, and uses the von Neumann neighborhood with rotational symmetry. Because of a particular property of the loops' \"pseudopodia\", they are unable to reproduce into the space occupied by another loop. Thus, once a loop is surrounded, it is incapable of reproducing, resulting in a coral-like colony with a thin layer of reproducing organisms surrounding a core of inactive \"dead\" organisms.\n",
    "### Byl's loop\n",
    "The Byl's loop was developed just a few years after Langton's loop. It simplified Langton's automaton, consisted of an array of 12 chips and 43 transition rules. Essentially, the simplification consisted in using fewer cellular states (6 as compared with Langton's 8) and a smaller replicating loop (12 cells as compared with Langton's 86).\n",
    "### Chou-Reggia loop\n",
    "A further reduction of the loop by removing all sheaths."
   ]
  },
  {
   "cell_type": "markdown",
   "metadata": {},
   "source": [
    "## 2.1. Exercise\n",
    "# TEXTO DEL EJERCICIO???"
   ]
  },
  {
   "cell_type": "code",
   "execution_count": 1,
   "metadata": {
    "collapsed": false
   },
   "outputs": [
    {
     "data": {
      "text/html": [
       "<iframe src=\"https://www.openprocessing.org/sketch/431576/embed/\" width=\"650\" height=\"490\"></iframe>"
      ],
      "text/plain": [
       "<IPython.core.display.HTML object>"
      ]
     },
     "metadata": {},
     "output_type": "display_data"
    }
   ],
   "source": [
    "%%HTML\n",
    "<iframe src=\"https://www.openprocessing.org/sketch/431576/embed/\" width=\"650\" height=\"490\"></iframe>"
   ]
  },
  {
   "cell_type": "markdown",
   "metadata": {
    "collapsed": false,
    "scrolled": true
   },
   "source": [
    "# Reference\n",
    "- Wikipedia. [Von Neumann cellular automaton](https://en.wikipedia.org/wiki/Von_Neumann_cellular_automaton)\n",
    "- Wikipedia. [Langton's_loop](https://en.wikipedia.org/wiki/Langton's_loops)"
   ]
  }
 ],
 "metadata": {
  "kernelspec": {
   "display_name": "Python 3",
   "language": "python",
   "name": "python3"
  },
  "language_info": {
   "codemirror_mode": {
    "name": "ipython",
    "version": 3
   },
   "file_extension": ".py",
   "mimetype": "text/x-python",
   "name": "python",
   "nbconvert_exporter": "python",
   "pygments_lexer": "ipython3",
   "version": "3.6.0"
  }
 },
 "nbformat": 4,
 "nbformat_minor": 2
}
