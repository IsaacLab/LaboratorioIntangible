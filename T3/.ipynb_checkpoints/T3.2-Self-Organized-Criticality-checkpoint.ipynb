{
 "cells": [
  {
   "cell_type": "markdown",
   "metadata": {
    "collapsed": false
   },
   "source": [
    "# Self-Organized Criticality\n",
    "\n",
    "\n",
    "# 1. Scale invariance\n",
    "\n",
    "In physics, mathematics, statistics, and economics, scale invariance is a feature of objects or laws that do not change if scales of length, energy, or other variables, are multiplied by a common factor, thus represent a universality.\n",
    "\n",
    "- In mathematics, scale invariance usually refers to an invariance of individual functions or curves. A closely related concept is self-similarity, where a function or curve is invariant under a discrete subset of the dilatations. The Kotch curve (below) is an example of fractal, that are self-similarity curves.\n",
    "- In statistical mechanics, scale invariance is a feature of phase transitions. The key observation is that near a phase transition or critical point, fluctuations occur at all length scales, and thus one should look for an explicitly scale-invariant theory to describe the phenomena.\n",
    "\n",
    "![](https://upload.wikimedia.org/wikipedia/commons/6/65/Kochsim.gif)\n",
    "\n"
   ]
  },
  {
   "cell_type": "markdown",
   "metadata": {},
   "source": [
    "# 2. Sandpile model\n",
    "\n",
    "The Abelian sandpile model, also known as the Bak–Tang–Wiesenfeld model, was the first discovered example of a dynamical system displaying self-organized criticality.\n",
    "\n",
    "The model is a cellular automaton. In its original formulation, each site on a finite grid has an associated value that corresponds to the slope of the pile. This slope builds up as \"grains of sand\" (or \"chips\") are randomly placed onto the pile, until the slope exceeds a specific threshold value at which time that site collapses transferring sand into the adjacent sites, increasing their slope. There is a successive random placement of sand grains on the grid; each such placement of sand at a particular site may have no effect, or it may cause a cascading reaction that will affect many sites.\n",
    "\n",
    "The original interest behind the model stemmed from the fact that in simulations on lattices, it is attracted to its critical state, at which point the correlation length of the system and the correlation time of the system go to infinity, without any fine tuning of a system parameter. This contrasts with earlier examples of critical phenomena, such as the phase transitions between solid and liquid, or liquid and gas, where the critical point can only be reached by precise tuning (e.g., of temperature). Hence, in the sandpile model we can say that the criticality is self-organized.\n",
    "\n",
    "Once the sandpile model reaches its critical state there is no correlation between the system's response to a perturbation and the details of a perturbation. Generally this means that dropping another grain of sand onto the pile may cause nothing to happen, or it may cause the entire pile to collapse in a massive slide. The model also displays 1/ƒ noise, a feature common to many complex systems in nature.\n",
    "\n",
    "## 2.1. Exercise\n",
    "\n",
    "The example below displays a standard Abelian sandpile. You can see the distribution of the grains along time, how they expand from the center where they are dropped. Nevertheless, you can modify its parameteres in the code to explore some variations. The shape of the grain of rice is modellized by the threshold of the avalanches. For instance, rounded grains stand smaller piles atop, as they easily slip from one to another. Elliptic grain stand higher piles because they are intertwined.\n",
    "\n",
    "- Go to the Openprocessing code and modify the variable \"maxGrains\" at the start of the code. Observe how the extent and distribution of the grains is affected.\n"
   ]
  },
  {
   "cell_type": "code",
   "execution_count": 3,
   "metadata": {
    "collapsed": false
   },
   "outputs": [
    {
     "data": {
      "text/html": [
       "<iframe src=\"https://www.openprocessing.org/sketch/434784/embed/\" width=\"450\" height=\"500\"></iframe>"
      ],
      "text/plain": [
       "<IPython.core.display.HTML object>"
      ]
     },
     "metadata": {},
     "output_type": "display_data"
    }
   ],
   "source": [
    "%%HTML\n",
    "<iframe src=\"https://www.openprocessing.org/sketch/434784/embed/\" width=\"450\" height=\"500\"></iframe>"
   ]
  },
  {
   "cell_type": "markdown",
   "metadata": {},
   "source": [
    "# 2.2. Exercise\n",
    "\n",
    "To analyse the results, we will plot the size of the avalanches. Every time a new grain is dropped at the center, this action may produce nothing, or may produce a displacement of several other grains. Sometimes, this displacement spreads all over the sandpile in a big avalanche that moves from the center to the border and backwards. The size of the avalanche for each new grain is the number of grains displaced by that grain.\n",
    "\n",
    "The example below plots the size of the avalanche both by a chronogram, and by a histogram. The histogram let us know how many avalanches there has been for the different size ranges of the avalanches.\n",
    "\n",
    "- Again, modify the value of the \"maxGrains\" variable in the code to analize the results for different kind of grains."
   ]
  },
  {
   "cell_type": "code",
   "execution_count": 86,
   "metadata": {
    "collapsed": false
   },
   "outputs": [
    {
     "data": {
      "image/png": "[encoded data removed]",
      "text/plain": [
       "<matplotlib.figure.Figure at 0x7f7838485128>"
      ]
     },
     "metadata": {},
     "output_type": "display_data"
    }
   ],
   "source": [
    "%matplotlib inline\n",
    "import math\n",
    "from matplotlib import pyplot as plt\n",
    "\n",
    "# maximum number of stackable sand grains that will cause a tople\n",
    "# (should be dividable by 4!)\n",
    "MAX_GRAINS = 4\n",
    "\n",
    "# total number of grains dropped on the field\n",
    "NUM_GRAINS = 100\n",
    "\n",
    "# sand field\n",
    "SIZE = 1000 # size of the field (each pixel is a pile)\n",
    "field = numpy.zeros((SIZE+2,SIZE+2))\n",
    "\n",
    "# avalanches\n",
    "avalancheSize = numpy.zeros((math.floor(NUM_GRAINS/4),1))\n",
    "\n",
    "for i in range(len(avalancheSize)):\n",
    "    grainsDisplaced = 0\n",
    "    field[int(SIZE/2)+1,int(SIZE/2)+1] += MAX_GRAINS    \n",
    "    # run until a stable state is reached\n",
    "    while numpy.max(field) >= MAX_GRAINS:\n",
    "        # find the highest piles\n",
    "        toohigh = field >= MAX_GRAINS\n",
    "        grainsDisplaced += MAX_GRAINS * sum(sum(toohigh))\n",
    "\n",
    "        # decrease highest piles\n",
    "        field[toohigh] -= MAX_GRAINS\n",
    "\n",
    "        # increase adjacent piles\n",
    "        field[1:,:][toohigh[:-1,:]] += MAX_GRAINS / 4\n",
    "        field[:-1,:][toohigh[1:,:]] += MAX_GRAINS / 4\n",
    "        field[:,1:][toohigh[:,:-1]] += MAX_GRAINS / 4\n",
    "        field[:,:-1][toohigh[:,1:]] += MAX_GRAINS / 4\n",
    "\n",
    "        # reset the overspill at the borders\n",
    "        field[0:1,:] = 0\n",
    "        field[1+SIZE:,:] = 0\n",
    "        field[:,0:1] = 0\n",
    "        field[:,1+SIZE:] = 0\n",
    "    # Store the number of grains displaced\n",
    "    avalancheSize[i] = grainsDisplaced\n",
    "\n",
    "# remove empty lines and columns\n",
    "field = field[1:1+SIZE,1:1+SIZE]\n",
    "field = [x for x in field if any(x)]\n",
    "field = numpy.transpose(field)\n",
    "field = [x for x in field if any(x)]\n",
    "field = numpy.transpose(field)\n",
    "\n",
    "# figures\n",
    "fig = plt.figure(figsize=(15,4))\n",
    "\n",
    "# figure sandpile\n",
    "plt.subplot(1,3,1)\n",
    "plt.axis('off')\n",
    "plt.imshow(field / numpy.max(field), cmap='gray', vmin=0, vmax=1)\n",
    "\n",
    "# chronogram\n",
    "ax = plt.subplot(1,3,2)\n",
    "plt.xlabel('Time')\n",
    "plt.ylabel('Avalanche size')\n",
    "#ax.set_yscale('log')\n",
    "plt.plot(range(len(avalancheSize)), avalancheSize)\n",
    "\n",
    "# histogram\n",
    "ax = plt.subplot(1,3,3)\n",
    "plt.xlabel('Avalanche size')\n",
    "plt.ylabel('Number of ocurrences')\n",
    "#ax.set_yscale('log')\n",
    "plt.hist(avalancheSize, bins=np.linspace(0,max(avalancheSize),10), log=False, rwidth=0.9)\n",
    "\n",
    "plt.show()"
   ]
  },
  {
   "cell_type": "markdown",
   "metadata": {},
   "source": [
    "# 3. Bak-Sneppen model\n",
    "\n",
    "The Bak–Sneppen model is a simple model of co-evolution between interacting species. It was developed to show how self-organized criticality may explain key features of the fossil record, such as the distribution of sizes of extinction events and the phenomenon of punctuated equilibrium.\n",
    "\n",
    "The model dynamics repeatedly eliminates the least adapted species and mutates it and its neighbors to recreate the interaction between species. We consider N species, which are associated with a fitness factor f(i). They are indexed by integers i around a ring. The algorithm consists in choosing the least fit species, and then replacing it and its two closest neighbors (previous and next species) by new species, with a new random fitness. After a long run there will be a minimum required fitness, below which species don't survive. These \"long-run\" events are referred to as avalanches, and the model proceeds through these avalanches until it reaches a state of relative stability where all species' fitness are above a certain threshold.\n",
    "\n",
    "## 3.1. Exercise\n",
    "\n",
    "This example displays the Bak-Sneppel model. Every column represents one specie. As the species become older, their color change from light green to dark blue. When a specie has the least fitness, it is eliminated along its neighbours, so new species are created with their age restarted to zero and changing their colors to light green. \n",
    "\n",
    "We can modify the original parameters to analyse their effect on the extinction avalanches. Go to OpenProcessing code and, in the \"BS\" tab, modify:\n",
    "\n",
    "- The number of eliminated neighbours, i.e. the variable \"neighbourSize\". Originally it is two neighbours, the specie at left and the specie at the right, but we may apply a wider extinction to more neighbours.\n",
    "- The probability of extinction, i.e .the variable \"neighbourProb\". Originally, the neighbours are certainly eliminated with a probability of one over one, meaning that the neighbour species are totally dependant of its neighbour. But we may choose a difffernt probability for devolping a more realistic interdependence. You can change this variable from zero (independent species) to one (fully dependant species).\n"
   ]
  },
  {
   "cell_type": "code",
   "execution_count": 4,
   "metadata": {
    "collapsed": false,
    "scrolled": true
   },
   "outputs": [
    {
     "data": {
      "text/html": [
       "<iframe src=\"https://www.openprocessing.org/sketch/434390/embed/\" width=\"500\" height=\"400\"></iframe>"
      ],
      "text/plain": [
       "<IPython.core.display.HTML object>"
      ]
     },
     "metadata": {},
     "output_type": "display_data"
    }
   ],
   "source": [
    "%%HTML\n",
    "<iframe src=\"https://www.openprocessing.org/sketch/434390/embed/\" width=\"500\" height=\"400\"></iframe>"
   ]
  },
  {
   "cell_type": "markdown",
   "metadata": {},
   "source": [
    "# 3.2. Exercise\n",
    "\n",
    "To analyse this model, we will plot the mean fitness of each generation. The example below plots the mean fitness in a chronogram. At first, this number will grow along time because the least fitness specie is eliminated on each generation. As time goes by, an increasingly random growth is expected because old species will have an almost constant high value of fitness while the new species are introduced with random fitness.\n",
    "\n",
    "- Modify the number of eliminated neighbours and their probability of being eliminated, and analyse the rise of the mean fitness along time according the modifications.\n",
    "- For a better visualization, try displaying the graph on log-log scales, i.e. logaritmic scale on both axes of the graph."
   ]
  },
  {
   "cell_type": "code",
   "execution_count": 104,
   "metadata": {
    "collapsed": false
   },
   "outputs": [
    {
     "data": {
      "image/png": "[encoded data removed]",
      "text/plain": [
       "<matplotlib.figure.Figure at 0x7f7838adb320>"
      ]
     },
     "metadata": {},
     "output_type": "display_data"
    }
   ],
   "source": [
    "%matplotlib inline\n",
    "import math\n",
    "\n",
    "N              = 100 # Number of cells in one generation\n",
    "maxGenerations = 10000 # Calculate up to this maximum number of generations\n",
    "neighbourSize  = 2; # Number (even) of eliminated neighbours (2 = left and right neighbours)\n",
    "neighbourProb  = 1; # Probability of the neighbours to be eliminated (0 < neighbourProb < 1)\n",
    "dataCurrent    = numpy.random.random((N, 1))\n",
    "dataNext       = numpy.zeros((N, 1))\n",
    "dataMeanFitness= numpy.zeros((maxGenerations, 1))\n",
    "\n",
    "# Bak-Sneppen algorithm\n",
    "def bak_sneppen(dataIn, dataOut):\n",
    "    # Next generation is equal to current generation by default\n",
    "    np.copyto(dataOut, dataIn)\n",
    "    # Find the position of the minimum value\n",
    "    pos = np.argmin(dataIn)\n",
    "    # Replace the minimum value\n",
    "    dataOut[pos] = np.random.random()\n",
    "    # Replace the neighbours\n",
    "    for i in range(math.floor(neighbourSize/2)):\n",
    "        if (numpy.random.random() < neighbourProb): # neighbours to the left\n",
    "            dataOut[(pos-1) % N] = numpy.random.random()\n",
    "        if (numpy.random.random() < neighbourProb): # neighbours to the rigth\n",
    "            dataOut[(pos+1) % N] = numpy.random.random()\n",
    "    return\n",
    "\n",
    "# Calculate generations\n",
    "for i in range(maxGenerations):\n",
    "    bak_sneppen(dataCurrent, dataNext)\n",
    "    # On next iteration, dataCurrent will be dataNext\n",
    "    aux = dataCurrent\n",
    "    dataCurrent = dataNext\n",
    "    dataNext = aux # reuse dataCurrent array to avoid allocating more memory on the computer\n",
    "    dataMeanFitness[i] = numpy.mean(dataCurrent)\n",
    "\n",
    "# Figures\n",
    "fig = plt.figure(figsize=(15,4))\n",
    "\n",
    "# chronogram\n",
    "ax = plt.subplot(1,3,1)\n",
    "plt.xlabel('Time')\n",
    "plt.ylabel('Mean fitness')\n",
    "#ax.set_xscale('log')\n",
    "#ax.set_yscale('log')\n",
    "plt.plot(range(len(dataMeanFitness)), dataMeanFitness)\n",
    "\n",
    "plt.show()"
   ]
  },
  {
   "cell_type": "markdown",
   "metadata": {
    "collapsed": false,
    "scrolled": true
   },
   "source": [
    "# References\n",
    "- Wikipedia. [Bak–Sneppen model](https://en.wikipedia.org/wiki/Bak%E2%80%93Sneppen_model)\n",
    "- Wikipedia. [Sandpile](https://en.wikipedia.org/wiki/Abelian_sandpile_model)\n",
    "- Wikipedia. [Scale invariance](https://en.wikipedia.org/wiki/Scale_invariance)"
   ]
  }
 ],
 "metadata": {
  "kernelspec": {
   "display_name": "Python 3",
   "language": "python",
   "name": "python3"
  },
  "language_info": {
   "codemirror_mode": {
    "name": "ipython",
    "version": 3
   },
   "file_extension": ".py",
   "mimetype": "text/x-python",
   "name": "python",
   "nbconvert_exporter": "python",
   "pygments_lexer": "ipython3",
   "version": "3.6.0"
  }
 },
 "nbformat": 4,
 "nbformat_minor": 2
}
