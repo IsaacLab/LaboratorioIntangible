{
 "cells": [
  {
   "cell_type": "markdown",
   "metadata": {
    "collapsed": false
   },
   "source": [
    "# The edge of Chaos\n",
    "\n",
    "In order for computation to emerge spontaneously and become an important factor in the dynamics of a system, the\n",
    "material substrate must support the primitive functions required for computation: the transmission, storage, and modification of information. The optimal conditions for the support of those functions are achieved in the vicinity of a phase transition.\n",
    "\n",
    "We will focus on the conditions under which this capacity to support computation itself might emerge in physical systems. Under what conditions will cellular automata support the basic operations of information transmission, storage, and modification?\n",
    "\n",
    "By selecting an appropriate parameterization of the space of Cellular Automata (CA), one observes a phase transition between highly ordered and highly disordered dynamics, analogous to the phase transition between the solid and fluid states of matter. Furthermore, we observe that CAs exhibiting the most complex behavior -both qualitatively and quantitatively- are found generically in the vicinity of this phase transition. Most importantly, we observe that CAs in the transition region have the greatest potential for the support of information storage, transmission, and modification, and therefore for the emergence of computation.\n",
    "\n",
    "Computation may emerge spontaneously and come to dominate the dynamics of physical systems when those systems are at or near a transition between their solid and fluid phases. This hypothesis, if borne out, has many implications for understanding the role of information in nature. Perhaps the most exciting implication is the possibility that life had its origin in the vicinity of a phase transition, and that evolution reflects the process by which life has gained local control over a successively greater number of environmental parameters affecting its ability to maintain itself at\n",
    "a critical balance point between order and chaos.\n",
    "\n",
    "# 1. Wolfram's qualitative CA classes\n",
    "\n",
    "Wolfram has proposed the following four qualitative classes of CA behavior:\n",
    "\n",
    "- Class I evolves to a homogeneous state.\n",
    "- Class II evolves to simple periodic structures.\n",
    "- Class III yields chaotic aperiodic patterns.\n",
    "- Class IV yields complex patterns of localized structures.\n",
    "\n",
    "Wolfram finds the following analogs for his classes of cellular automaton behaviors in the field of dynamical systems:\n",
    "\n",
    "- Class I cellular automata evolve to limit points.\n",
    "- Class II cellular automata evolve to limit cycles.\n",
    "- Class III cellular automata evolve to chaotic behavior, of the kind associated with strange attractors.\n",
    "- Class IV cellular automata \"effectively have very long transients\".\n",
    "\n",
    "This association of class IV CAs with \"very long transients\" will figure \"critically\" in what follows.\n",
    "Wolfram suggests that class IV CAs are capable of supporting computation, even universal computation, and that it is this capacity that makes their behavior so complex.\n",
    "\n",
    "There is an obvious mapping of the Wolfram classes onto the spectrum of dynamical possibilities over the k space: classes I and II constitute the ordered phase, while class III constitutes the disordered phase. Because of their long transients, propagating structures, large correlation lengths, and other statistical properties, the only logical choice for the location of class IV CAs is at the transition between these two phases of dynamical behavior.\n",
    "\n",
    "![The edge of chaos](img/edge-of-chaos.png)\n"
   ]
  },
  {
   "cell_type": "markdown",
   "metadata": {},
   "source": [
    "# 2. Paremeterizing the space of CA rules\n",
    "\n",
    "The Lambda parameter is defined as follows.\n",
    "\n",
    "In Wolfram CA, there are K = 2 possible states (dead or alive), and a neighbourhood of N = 3 to calculate next states (the cell itself and its two adjacent cells). So there are K^N states that will define the next state of a cell. We pick an arbitrary state S, and call it the quiescent state Sq. Let there be n transitions to this special quiescent state in a rule. In this context, we define:\n",
    "> &lambda; = (K^N - n) / K^N\n",
    "\n",
    "On the other hand, we look for a measure of the complexity of the system. We choose the Mutual Information between generations:\n",
    "> MI = &Sigma; ( p(x,y) · log(x)  · log(y) )\n",
    "\n",
    "## 2.1. Exercise\n",
    "\n",
    "Now, we wil explore the lambda space of the Wolfram CA. This example runs the CA and returns the lambda and complexity of the executed ruleset.\n",
    "\n",
    "In the code, we have to change the ruleset (in the first lines of the \"mySketch\" tab). Try at least one ruleset of each wolfram's class:\n",
    "- Class I: Rule 254.\n",
    "- Class II: Rule 190.\n",
    "- Class III: Rule 30.\n",
    "- Class IV: Rule 110.\n",
    "\n",
    "Afterwards, display those values in a graph to analyze the results. Below the simulation, you have an edit field to introduce the list of pairs (lamda, complexity) for displaying a graph.\n",
    "\n",
    "- Which values of lambda correspond to each of the Wolfram classes?\n",
    "- What are the values of complexity for those classes? What is their meaning?\n",
    "- What happen with rule 110?\n"
   ]
  },
  {
   "cell_type": "code",
   "execution_count": 2,
   "metadata": {
    "collapsed": false,
    "scrolled": true
   },
   "outputs": [
    {
     "data": {
      "text/html": [
       "<iframe src=\"https://www.openprocessing.org/sketch/433886/embed/\" width=\"640\" height=\"348\"></iframe>"
      ],
      "text/plain": [
       "<IPython.core.display.HTML object>"
      ]
     },
     "metadata": {},
     "output_type": "display_data"
    }
   ],
   "source": [
    "%%HTML\n",
    "<iframe src=\"https://www.openprocessing.org/sketch/433886/embed/\" width=\"640\" height=\"348\"></iframe>"
   ]
  },
  {
   "cell_type": "code",
   "execution_count": 1,
   "metadata": {
    "collapsed": false
   },
   "outputs": [],
   "source": [
    "from ipywidgets import widgets\n",
    "from IPython.display import display\n",
    "import numpy as np\n",
    "import re\n",
    "from matplotlib import pyplot as plt\n",
    "%matplotlib inline\n",
    "\n",
    "def handle_submit(sender):\n",
    "    all = np.fromiter((item.group() for item in re.finditer(r'\\d+', text.value)), dtype=np.int64).reshape((-1, 2)) \n",
    "    plt.plot(all[:,0],all[:,1],'o-')\n",
    "text = widgets.Text(description=\"Values\")\n",
    "text.on_submit(handle_submit)\n",
    "display(widgets.Label(\"Enter list of (Lambda,C) values as a list of tuples. E.g. \\\"(0,10),(1,20),(3,25)\\\"\"))\n",
    "display(text)"
   ]
  },
  {
   "cell_type": "markdown",
   "metadata": {},
   "source": [
    "# 3. Conclusions\n",
    "\n",
    "As we survey CA rule spaces using the Lambda parameter, we encounter a phase transition between periodic and chaotic behavior, and the most complex behavior is found in the vicinity of this transition, both qualitatively and quantitatively.\n",
    "\n",
    "Briefly, information storage involves lowering entropy while information transmission involves raising entropy. In order to compute, a system must do both, and therefore must effect a trade-off between high and low operating entropy. This trade-off is optimized in the vicinity of a phase transition.\n",
    "\n",
    "Complexity increases with randonmess only up to a point -a phase transition- after which complexity decreases with further increases in randomness, so that total disorder is just as \"simple\", in a sense, as total order. Complex behavior involves a mix of order and disorder.\n",
    "\n",
    "Information becomes an important factor in the dynamics of CAs in the vicinity of the phase transition between periodic and chaotic behavior. Only in the vicinity of this phase transition can information propagate over long distances without decaying appreciably. This allows for the long-range correlations in behavior, sensitivity to \"size\", extended transients, etc., which are necessary for the support of computation. By contrast, the ordered regime does not allow information to propagate at all, whereas the disordered regime propagates effects too well, causing information to decay rapidly into random noise.\n"
   ]
  },
  {
   "cell_type": "markdown",
   "metadata": {
    "collapsed": false,
    "scrolled": true
   },
   "source": [
    "# References\n",
    "- Langton, Chris G. \"Computation at the edge of chaos: phase transitions and emergent computation.\" Physica D: Nonlinear Phenomena 42.1-3 (1990): 12-37."
   ]
  }
 ],
 "metadata": {
  "kernelspec": {
   "display_name": "Python 3",
   "language": "python",
   "name": "python3"
  },
  "language_info": {
   "codemirror_mode": {
    "name": "ipython",
    "version": 3
   },
   "file_extension": ".py",
   "mimetype": "text/x-python",
   "name": "python",
   "nbconvert_exporter": "python",
   "pygments_lexer": "ipython3",
   "version": "3.6.0"
  },
  "widgets": {
   "state": {
    "63932d2a1707489e9bdaddf1f68feac5": {
     "views": [
      {
       "cell_index": 3
      }
     ]
    },
    "a10dae0359144354bb5b2abc4b60f8f0": {
     "views": [
      {
       "cell_index": 3
      }
     ]
    }
   },
   "version": "1.2.0"
  }
 },
 "nbformat": 4,
 "nbformat_minor": 2
}
