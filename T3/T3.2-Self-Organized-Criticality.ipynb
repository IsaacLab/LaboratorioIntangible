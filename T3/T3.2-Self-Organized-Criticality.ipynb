{
 "cells": [
  {
   "cell_type": "markdown",
   "metadata": {
    "collapsed": false
   },
   "source": [
    "# Self-Organized Criticality\n",
    "\n",
    "\n",
    "# 1. Scale invariance\n",
    "\n",
    "In physics, mathematics, statistics, and economics, scale invariance is a feature of objects or laws that do not change if scales of length, energy, or other variables, are multiplied by a common factor, thus represent a universality.\n",
    "\n",
    "- In mathematics, scale invariance usually refers to an invariance of individual functions or curves. A closely related concept is self-similarity, where a function or curve is invariant under a discrete subset of the dilatations. The Kotch curve (below) is an example of fractal, that are self-similarity curves.\n",
    "- In statistical mechanics, scale invariance is a feature of phase transitions. The key observation is that near a phase transition or critical point, fluctuations occur at all length scales, and thus one should look for an explicitly scale-invariant theory to describe the phenomena.\n",
    "\n",
    "![](https://upload.wikimedia.org/wikipedia/commons/6/65/Kochsim.gif)\n",
    "\n"
   ]
  },
  {
   "cell_type": "markdown",
   "metadata": {},
   "source": [
    "# 2. Sandpile model\n",
    "\n",
    "The Abelian sandpile model, also known as the Bak–Tang–Wiesenfeld model, was the first discovered example of a dynamical system displaying self-organized criticality.\n",
    "\n",
    "The model is a cellular automaton. In its original formulation, each site on a finite grid has an associated value that corresponds to the slope of the pile. This slope builds up as \"grains of sand\" (or \"chips\") are randomly placed onto the pile, until the slope exceeds a specific threshold value at which time that site collapses transferring sand into the adjacent sites, increasing their slope. There is a successive random placement of sand grains on the grid; each such placement of sand at a particular site may have no effect, or it may cause a cascading reaction that will affect many sites.\n",
    "\n",
    "The original interest behind the model stemmed from the fact that in simulations on lattices, it is attracted to its critical state, at which point the correlation length of the system and the correlation time of the system go to infinity, without any fine tuning of a system parameter. This contrasts with earlier examples of critical phenomena, such as the phase transitions between solid and liquid, or liquid and gas, where the critical point can only be reached by precise tuning (e.g., of temperature). Hence, in the sandpile model we can say that the criticality is self-organized.\n",
    "\n",
    "Once the sandpile model reaches its critical state there is no correlation between the system's response to a perturbation and the details of a perturbation. Generally this means that dropping another grain of sand onto the pile may cause nothing to happen, or it may cause the entire pile to collapse in a massive slide. The model also displays 1/ƒ noise, a feature common to many complex systems in nature.\n",
    "\n",
    "## 2.1. Exercise\n",
    "\n",
    "The example below displays a standard Abelian sandpile. You can see the distribution of the grains along time, how they expand from the center where they are dropped. Nevertheless, you can modify its parameteres in the code to explore some variations. The shape of the grain of rice is modellized by the threshold of the avalanches. For instance, rounded grains stand smaller piles atop, as they easily slip from one to another. Elliptic grain stand higher piles because they are intertwined.\n",
    "\n",
    "- Go to the Openprocessing code and modify the variable \"maxGrains\" at the start of the code. Observe how the extent and distribution of the grains is affected.\n"
   ]
  },
  {
   "cell_type": "code",
   "execution_count": 5,
   "metadata": {
    "collapsed": false
   },
   "outputs": [
    {
     "data": {
      "text/html": [
       "<iframe src=\"https://www.openprocessing.org/sketch/434784/embed/\" width=\"450\" height=\"500\"></iframe>"
      ],
      "text/plain": [
       "<IPython.core.display.HTML object>"
      ]
     },
     "metadata": {},
     "output_type": "display_data"
    }
   ],
   "source": [
    "%%HTML\n",
    "<iframe src=\"https://www.openprocessing.org/sketch/434784/embed/\" width=\"450\" height=\"500\"></iframe>"
   ]
  },
  {
   "cell_type": "markdown",
   "metadata": {},
   "source": [
    "# 2.2. Exercise\n",
    "\n",
    "To analyse the results, we will code the sandpile algorithm. Every time a new grain is dropped at the center, this action may produce nothing, or may produce a displacement of several other grains. Sometimes, this displacement spreads all over the sandpile in a big avalanche that moves from the center to the border and backwards. The size of the avalanche for each new grain is the number of grains displaced by that grain.\n",
    "\n",
    "The sandpile function returns the board containing the grains and the numbere of grains displaced on every time step. Note that one time step means dropping the maximum number of grains allowed for a pile. This because dropping less grains produces no avalanches.\n"
   ]
  },
  {
   "cell_type": "code",
   "execution_count": 6,
   "metadata": {
    "collapsed": true
   },
   "outputs": [],
   "source": [
    "import math\n",
    "import numpy as np\n",
    "\n",
    "# Algorithm of the Sandpile model \n",
    "def sandPileModel(numGrainsDropped, maxGrainsPerPile, probabilityFalldown):\n",
    "    sizeBoard = 100 # size of the board (each pixel is a pile)\n",
    "    board = np.zeros((sizeBoard+2,sizeBoard+2))\n",
    "\n",
    "    # Grains fallen from a pile when it has more than maxGrainsPerPile\n",
    "    grainsFallen = maxGrainsPerPile * probabilityFalldown;\n",
    "    # Total grains displaced for every timestep. In each timestep we drop 'maxGrainsPerPile' grains.\n",
    "    avalancheSize = np.zeros((math.floor(numGrainsDropped/maxGrainsPerPile),1))\n",
    "\n",
    "    for i in range(len(avalancheSize)):\n",
    "        grainsDisplaced = 0\n",
    "        board[int(sizeBoard/2)+1,int(sizeBoard/2)+1] += maxGrainsPerPile    \n",
    "        # run until a stable state is reached\n",
    "        while np.max(board) >= maxGrainsPerPile:\n",
    "            # find the highest piles\n",
    "            toohigh = board >= maxGrainsPerPile\n",
    "            grainsDisplaced += grainsFallen * np.sum(toohigh)\n",
    "\n",
    "            # decrease highest piles\n",
    "            board[toohigh] -= grainsFallen\n",
    "\n",
    "            # increase adjacent piles\n",
    "            board[1:,:][toohigh[:-1,:]] += grainsFallen / 4\n",
    "            board[:-1,:][toohigh[1:,:]] += grainsFallen / 4\n",
    "            board[:,1:][toohigh[:,:-1]] += grainsFallen / 4\n",
    "            board[:,:-1][toohigh[:,1:]] += grainsFallen / 4\n",
    "\n",
    "            # reset the overspill at the borders\n",
    "            board[0:1,:] = 0\n",
    "            board[1+sizeBoard:,:] = 0\n",
    "            board[:,0:1] = 0\n",
    "            board[:,1+sizeBoard:] = 0\n",
    "        # Store the number of grains displaced\n",
    "        avalancheSize[i] = grainsDisplaced\n",
    "\n",
    "    # remove empty lines and columns\n",
    "    board = board[1:1+sizeBoard,1:1+sizeBoard]\n",
    "    board = [x for x in board if any(x)]\n",
    "    board = np.transpose(board)\n",
    "    board = [x for x in board if any(x)]\n",
    "    board = np.transpose(board)\n",
    "\n",
    "    return [board, avalancheSize]\n"
   ]
  },
  {
   "cell_type": "markdown",
   "metadata": {},
   "source": [
    "Now, we will call the function with different parameters to analize the results. We will plot the resulting board, the size of avalanches in every timestep, and the histogram of those avalanches. The histogram let us know how many avalanches there has been with a certain size range.\n",
    "\n",
    "- Sometimes, the linear scales of the plots are not convenient when the data vary logarithmically. In the code, look for the lines that switch the scales from linear to logarithmic and uncomment them. E.g.: ax.set_yscale('log')\n",
    "- As well, the chronogram graph of the avalanches may show too many data. To display only a certain range of time, look for the commented line that set the limits of the horizontal axis and modify it to your convenience.\n",
    "- Different types of grain (e.g. rounded or elliptical) may alter the number of grains that can stand in a pile before it falls down. Modify the value of the \"MAX_GRAINS\" variable to simulate different types of grain. Don't worry to break the grains in pieces to distribute them homogeneously among the adjacent piles. Are the results similar or different?\n",
    "- Some grains may remain in the pile after the avalanche, so not falling down to its neighbours. We can simulate these cases with the \"FALL_PROBABILITY\" variable, whose values go from zero (no grains fall) and 1 (all the grains of the pile are distributed among the neighbours)."
   ]
  },
  {
   "cell_type": "code",
   "execution_count": 7,
   "metadata": {
    "collapsed": false
   },
   "outputs": [
    {
     "data": {
      "image/png": "[encoded data removed]",
      "text/plain": [
       "<matplotlib.figure.Figure at 0x7f26565600f0>"
      ]
     },
     "metadata": {},
     "output_type": "display_data"
    }
   ],
   "source": [
    "%matplotlib inline \n",
    "from matplotlib import pyplot as plt\n",
    "    \n",
    "# Maximum number of stackable sand grains that will cause an avalanche\n",
    "MAX_GRAINS = 4\n",
    "# Probablity of grains falling down to adjacent piles during an avalanche\n",
    "FALL_PROBABILITY = 1\n",
    "# Total number of grains dropped on the board\n",
    "NUM_GRAINS = 5000\n",
    "# Calculate the simulation\n",
    "[board, avalancheSize] = sandPileModel(NUM_GRAINS, MAX_GRAINS, FALL_PROBABILITY)\n",
    "\n",
    "# Figures\n",
    "fig = plt.figure(figsize=(15,4))\n",
    "\n",
    "# Sandpile boad\n",
    "plt.subplot(1,3,1)\n",
    "plt.axis('off')\n",
    "plt.imshow(board / np.max(board), cmap='gray', vmin=0, vmax=1)\n",
    "\n",
    "# Chronogram of avalanches\n",
    "ax = plt.subplot(1,3,2)\n",
    "plt.xlabel('Time')\n",
    "plt.ylabel('Avalanche size')\n",
    "#ax.set_yscale('log')\n",
    "#ax.set_xlim([max(0, len(avalancheSize)-300), len(avalancheSize)])\n",
    "plt.plot(range(len(avalancheSize)), avalancheSize)\n",
    "\n",
    "# Histogram of avalanches\n",
    "ax = plt.subplot(1,3,3)\n",
    "plt.xlabel('Avalanche size')\n",
    "plt.ylabel('Number of ocurrences')\n",
    "plt.hist(avalancheSize, bins=np.linspace(0,max(avalancheSize),num=10), rwidth=0.9)\n",
    "#ax.set_xscale('log')\n",
    "#ax.set_yscale('log')\n",
    "#plt.hist(avalancheSize, bins=np.logspace(np.log10(MAX_GRAINS),np.log10(max(avalancheSize)),num=10), rwidth=0.9)\n",
    "\n",
    "plt.show()"
   ]
  },
  {
   "cell_type": "markdown",
   "metadata": {},
   "source": [
    "# 3. Bak-Sneppen model\n",
    "\n",
    "The Bak–Sneppen model is a simple model of co-evolution between interacting species. It was developed to show how self-organized criticality may explain key features of the fossil record, such as the distribution of sizes of extinction events and the phenomenon of punctuated equilibrium.\n",
    "\n",
    "The model dynamics repeatedly eliminates the least adapted species and mutates it and its neighbors to recreate the interaction between species. We consider N species, which are associated with a fitness factor f(i). They are indexed by integers i around a ring. The algorithm consists in choosing the least fit species, and then replacing it and its two closest neighbors (previous and next species) by new species, with a new random fitness. After a long run there will be a minimum required fitness, below which species don't survive. These \"long-run\" events are referred to as avalanches, and the model proceeds through these avalanches until it reaches a state of relative stability where all species' fitness are above a certain threshold.\n",
    "\n",
    "As well, we can use this model to study the scientific progress. Accounts of scientific change roughly fall into two categories, one and two-process change. One-process views hold that scientific change is a single process of movement toward an independent point of reference, for example Popper's cycle of conjecture and refutation. One of the most influential criticisms of this view is by Thomas Kuhn, who held that standards for science are not independent, but coevolve with scientific activity itself. Science then does not evolve toward a goal but away from goals previously set, with no fixed point left to compare its progress against. Without such a stable ‘‘Archimedean platform,’’ there is nothing against which science can meaningfully be said to cumulate. Moreover, changes of standard caused by scientific change can cause cascades of further scientific changes. \n",
    "\n",
    "![](Scientific-progress-popperian.png)\n",
    "![](Scientific-progress-kuhnian.png)\n",
    "\n",
    "\n",
    "## 3.1. Exercise\n",
    "\n",
    "This example displays the Bak-Sneppel model. Every column represents one specie. As the species become older, their color change from light green to dark blue. When a specie has the least fitness, it is eliminated along its neighbours, so new species are created with their age restarted to zero and changing their colors to light green. \n",
    "\n",
    "We can modify the original parameters to analyse their effect on the extinction avalanches. Go to OpenProcessing code and, in the \"BS\" tab, modify:\n",
    "\n",
    "- The number of eliminated neighbours, i.e. the variable \"neighbourSize\". Originally it is two neighbours, the specie at left and the specie at the right, but we may apply a wider extinction to more neighbours.\n",
    "- The probability of extinction, i.e .the variable \"neighbourProb\". Originally, the neighbours are certainly eliminated with a probability of one over one, meaning that the neighbour species are totally dependant of its neighbour. But we may choose a difffernt probability for devolping a more realistic interdependence. You can change this variable from zero (independent species) to one (fully dependant species).\n"
   ]
  },
  {
   "cell_type": "code",
   "execution_count": 8,
   "metadata": {
    "collapsed": false,
    "scrolled": true
   },
   "outputs": [
    {
     "data": {
      "text/html": [
       "<iframe src=\"https://www.openprocessing.org/sketch/434390/embed/\" width=\"500\" height=\"400\"></iframe>"
      ],
      "text/plain": [
       "<IPython.core.display.HTML object>"
      ]
     },
     "metadata": {},
     "output_type": "display_data"
    }
   ],
   "source": [
    "%%HTML\n",
    "<iframe src=\"https://www.openprocessing.org/sketch/434390/embed/\" width=\"500\" height=\"400\"></iframe>"
   ]
  },
  {
   "cell_type": "markdown",
   "metadata": {},
   "source": [
    "# 3.2. Exercise\n",
    "\n",
    "To analyse this model, we will code its algorithm. Take a look and try to understand the steps.\n"
   ]
  },
  {
   "cell_type": "code",
   "execution_count": 9,
   "metadata": {
    "collapsed": false
   },
   "outputs": [],
   "source": [
    "import math\n",
    "import numpy as np\n",
    "\n",
    "# Bak-Sneppen algorithm\n",
    "def bak_sneppen(numSpecies, maxGenerations, neighbourSize, neighbourProb):\n",
    "    result = np.zeros((maxGenerations, 1))\n",
    "    agesSize = 300\n",
    "    agesStart = np.zeros((agesSize, numSpecies))\n",
    "    agesEnd   = np.zeros((agesSize, numSpecies))\n",
    "    fitnessNow  = np.random.random((numSpecies, 1))\n",
    "    fitnessNext = np.zeros((numSpecies, 1))\n",
    "    agesNow  = np.zeros((numSpecies, 1))\n",
    "    agesNext = np.zeros((numSpecies, 1))\n",
    "    for i in range(maxGenerations):\n",
    "        # Next generation is equal to current fitness by default\n",
    "        np.copyto(fitnessNext, fitnessNow)\n",
    "        np.copyto(agesNext, agesNow)\n",
    "        agesNext = agesNext + 1\n",
    "        # Find the position of the minimum value\n",
    "        pos = np.argmin(fitnessNow)\n",
    "        # Replace the minimum value\n",
    "        fitnessNext[pos] = np.random.random()\n",
    "        result[i] = agesNext[pos]\n",
    "        agesNext[pos] = 0\n",
    "        # Replace the neighbours\n",
    "        for posIncrement in range(math.floor(neighbourSize/2)):\n",
    "            if (np.random.random() < neighbourProb): # neighbour at the left\n",
    "                fitnessNext[(pos-posIncrement) % numSpecies] = np.random.random()\n",
    "                agesNext   [(pos-posIncrement) % numSpecies] = 0\n",
    "            if (np.random.random() < neighbourProb): # neighbour at the rigth\n",
    "                fitnessNext[(pos+posIncrement) % numSpecies] = np.random.random()\n",
    "                agesNext   [(pos+posIncrement) % numSpecies] = 0\n",
    "        # On next iteration, fitnessNow will be the fitnessNext\n",
    "        np.copyto(fitnessNow, fitnessNext)\n",
    "        np.copyto(agesNow, agesNext)\n",
    "        if i<agesSize:\n",
    "            for iCell in range(len(fitnessNow)):\n",
    "                agesStart[i, iCell] = agesNow[iCell]\n",
    "        if maxGenerations-i<agesSize:\n",
    "            for iCell in range(len(fitnessNow)):\n",
    "                agesEnd[i-maxGenerations, iCell] = agesNow[iCell]\n",
    "    return [result, agesStart, agesEnd]"
   ]
  },
  {
   "cell_type": "markdown",
   "metadata": {},
   "source": [
    "The example below plots the mean fitness in a chronogram. At first, this number will grow along time because the least fitness specie is eliminated on each generation. As time goes by, an increasingly random growth is expected because old species will have an almost constant high value of fitness while the new species are introduced with random fitness.\n",
    "\n",
    "- Modify the number of eliminated neighbours and their probability of being eliminated, and analyse the rise of the mean fitness along time according the modifications.\n",
    "- For better visualizations, try to display the graphs on logarithmic scale."
   ]
  },
  {
   "cell_type": "code",
   "execution_count": 10,
   "metadata": {
    "collapsed": false,
    "scrolled": true
   },
   "outputs": [
    {
     "data": {
      "image/png": "[encoded data removed]",
      "text/plain": [
       "<matplotlib.figure.Figure at 0x7f266007c400>"
      ]
     },
     "metadata": {},
     "output_type": "display_data"
    }
   ],
   "source": [
    "%matplotlib inline\n",
    "from matplotlib import pyplot as plt\n",
    "\n",
    "N              = 100 # Number of cells in one generation\n",
    "maxGenerations = 10000 # Calculate up to this maximum number of generations\n",
    "neighbourSize  = 2 # Number (even) of eliminated neighbours (2 = left and right neighbours)\n",
    "neighbourProb  = 1 # Probability of the neighbours to be eliminated (0 < neighbourProb < 1)\n",
    "\n",
    "# Calculate the simulation\n",
    "[agesEliminated, agesStart, agesEnd] = bak_sneppen(N, maxGenerations, neighbourSize, neighbourProb)\n",
    "agesImage = agesStart\n",
    "\n",
    "# Figures\n",
    "fig = plt.figure(figsize=(15,4))\n",
    "\n",
    "# Ages of the eliminated specie\n",
    "ax = plt.subplot(1,3,1)\n",
    "plt.title('Age')\n",
    "plt.xlabel('Species')\n",
    "plt.ylabel('Generations')\n",
    "ax.set_xticks([])\n",
    "plt.imshow(agesImage / np.max(agesImage), cmap='hot_r', vmin=0, vmax=1)\n",
    "\n",
    "# Chronogram\n",
    "ax = plt.subplot(1,3,2)\n",
    "plt.xlabel('Generations')\n",
    "plt.ylabel('Age of eliminated specie')\n",
    "#ax.set_xscale('log')\n",
    "#ax.set_yscale('log')\n",
    "plt.plot(range(len(agesEliminated)), agesEliminated)\n",
    "\n",
    "# Histogram\n",
    "ax = plt.subplot(1,3,3)\n",
    "plt.xlabel('Age of eliminated specie')\n",
    "plt.ylabel('Number of ocurrences')\n",
    "plt.hist(agesEliminated, bins=np.linspace(0,max(agesEliminated),num=10), rwidth=0.9)\n",
    "#ax.set_xscale('log')\n",
    "#ax.set_yscale('log')\n",
    "#plt.hist(agesEliminated, bins=np.logspace(0,np.log10(max(agesEliminated)),num=10), rwidth=0.9)\n",
    "\n",
    "plt.show()"
   ]
  },
  {
   "cell_type": "markdown",
   "metadata": {},
   "source": [
    "# 4. Detrended Fluctuaction Analysis\n",
    "\n",
    "A fractal dimension is a ratio providing a statistical index of complexity comparing how detail in a pattern (strictly speaking, a fractal pattern) changes with the scale at which it is measured. It has also been characterized as a measure of the space-filling capacity of a pattern that tells how a fractal scales differently from the space it is embedded in; a fractal dimension does not have to be an integer.\n",
    "\n",
    "For instance, if we measure the lenght of the England coast, we will find different values according the unit chosen to do the measurement.\n",
    "\n",
    "![](box-counting.png)\n",
    "\n",
    "We may apply the fractal ideas to time signals. For instance, the box counting method would consist in covering with boxes the line of the signal when the value of the signal is displayed along time.\n",
    "\n",
    "There are several algorithms that measure the fractal index of time signals. We are going to use the DFA (Detrended Fluctuation Analysis) because its robustness.\n",
    "\n",
    "On time-signals, there are three chracteristic fractal values: white, pink and brown noise.\n",
    "- White noise is produced when the value of the signal at every moment is fully independent from the previous values.\n",
    "- Brown noise is the mathematical integrtion of white noise. For instance, consider a random walk: at every moment, the direction of the next step is random, but the result is a path along space. So the value of the signal at a certain moment is very dependant of the previous values.\n",
    "- Pink noise is in between white and brown noises. There are many phenomena at nature which signature is pink noise, exhibiting a self-organized structure, critical in the sense of being at the border between rigidness and randomness.\n"
   ]
  },
  {
   "cell_type": "markdown",
   "metadata": {},
   "source": [
    "## 4.1. Exercise\n",
    "Now, we will analyse the results of the sandpile model to check if they are fractal. To do so, we will obtain the fractal index of the avalanche size.\n",
    "- Does the sandpile model have a fractal behaviour?\n",
    "- Modify the parameters of the sandpile model, i.e. MAX_GRAINS and FALL_PROBABILITY, and relate the changes to the fractal index.\n",
    "- Tip: The NUM_GRAINS value cannot be small because the dfa algorithm needs a long serie to accurately perform the calculations."
   ]
  },
  {
   "cell_type": "code",
   "execution_count": 27,
   "metadata": {
    "collapsed": false
   },
   "outputs": [
    {
     "name": "stdout",
     "output_type": "stream",
     "text": [
      "Alpha = 0.201723304091\n",
      "Alpha (random noise) = 0.531078754334\n"
     ]
    }
   ],
   "source": [
    "from pyeeg import dfa as dfa\n",
    "import numpy as np\n",
    "\n",
    "# Maximum number of stackable sand grains that will cause an avalanche\n",
    "MAX_GRAINS = 4\n",
    "# Probablity of grains falling down to adjacent piles during an avalanche\n",
    "FALL_PROBABILITY = 1\n",
    "# Total number of grains dropped on the board\n",
    "NUM_GRAINS = 5000\n",
    "# Calculate the simulation\n",
    "[board, avalancheSize] = sandPileModel(NUM_GRAINS, MAX_GRAINS, FALL_PROBABILITY)\n",
    "# Calculate the fractal index\n",
    "fractal = dfa(avalancheSize)\n",
    "print(\"Alpha = \" +str(fractal[0]))\n",
    "\n",
    "# Comparison with random noise\n",
    "fractal = dfa(np.random.randn(10000))\n",
    "print(\"Alpha (random noise) = \" +str(fractal[0]))\n"
   ]
  },
  {
   "cell_type": "markdown",
   "metadata": {},
   "source": [
    "## 4.2. Exercise\n",
    "Now, we will analyse the results of the Bak-Sneppen model to check if they are fractal. To do so, we will obtain the fractal index of the avalanche size.\n",
    "- Does the Bak-Sneppen model have a fractal behaviour?\n",
    "- Modify the parameters of the model, i.e. the neighbourSize and neighbourProb variables, and relate the changes to the fractal index.\n",
    "- Tip: The maxGenerations value cannot be small because the dfa algorithm needs a long serie to accurately perform the calculations."
   ]
  },
  {
   "cell_type": "code",
   "execution_count": 25,
   "metadata": {
    "collapsed": false
   },
   "outputs": [
    {
     "name": "stdout",
     "output_type": "stream",
     "text": [
      "Alpha = 1.75498982309\n",
      "Alpha (random noise) = 0.506254042073\n"
     ]
    }
   ],
   "source": [
    "from pyeeg import dfa as dfa\n",
    "import numpy as np\n",
    "\n",
    "N              = 100 # Number of cells in one generation\n",
    "maxGenerations = 10000 # Calculate up to this maximum number of generations\n",
    "neighbourSize  = 2 # Number (even) of eliminated neighbours (2 = left and right neighbours)\n",
    "neighbourProb  = 1 # Probability of the neighbours to be eliminated (0 < neighbourProb < 1)\n",
    "\n",
    "# Calculate the simulation\n",
    "[agesEliminated, agesStart, agesEnd] = bak_sneppen(N, maxGenerations, neighbourSize, neighbourProb)\n",
    "# Calculate the fractal index\n",
    "fractal = dfa(agesEliminated)\n",
    "print(\"Alpha = \" +str(fractal[0]))\n",
    "\n",
    "# Comparison with random noise\n",
    "fractal = dfa(np.random.randn(10000))\n",
    "print(\"Alpha (random noise) = \" +str(fractal[0]))\n"
   ]
  },
  {
   "cell_type": "markdown",
   "metadata": {
    "collapsed": false,
    "scrolled": true
   },
   "source": [
    "# References\n",
    "- Wikipedia. [Bak–Sneppen model](https://en.wikipedia.org/wiki/Bak%E2%80%93Sneppen_model)\n",
    "- Wikipedia. [Minkowski–Bouligand dimension](https://en.wikipedia.org/wiki/Minkowski%E2%80%93Bouligand_dimension)\n",
    "- Wikipedia. [Sandpile](https://en.wikipedia.org/wiki/Abelian_sandpile_model)\n",
    "- Wikipedia. [Scale invariance](https://en.wikipedia.org/wiki/Scale_invariance)"
   ]
  }
 ],
 "metadata": {
  "kernelspec": {
   "display_name": "Python 3",
   "language": "python",
   "name": "python3"
  },
  "language_info": {
   "codemirror_mode": {
    "name": "ipython",
    "version": 3
   },
   "file_extension": ".py",
   "mimetype": "text/x-python",
   "name": "python",
   "nbconvert_exporter": "python",
   "pygments_lexer": "ipython3",
   "version": "3.6.0"
  }
 },
 "nbformat": 4,
 "nbformat_minor": 2
}
