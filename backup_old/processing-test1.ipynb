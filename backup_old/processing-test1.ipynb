{
 "cells": [
  {
   "cell_type": "code",
   "execution_count": null,
   "metadata": {
    "collapsed": false
   },
   "outputs": [],
   "source": []
  },
  {
   "cell_type": "code",
   "execution_count": 5,
   "metadata": {
    "collapsed": false
   },
   "outputs": [],
   "source": [
    "from metakernel import register_ipython_magics\n",
    "register_ipython_magics()"
   ]
  },
  {
   "cell_type": "code",
   "execution_count": 6,
   "metadata": {
    "collapsed": false
   },
   "outputs": [
    {
     "data": {
      "text/html": [
       "\n",
       "<canvas id=\"canvas_1\"></canvas>\n",
       "<script>\n",
       "require([window.location.protocol + \"//calysto.github.io/javascripts/processing/processing.js\"], function () {\n",
       "    var processingCode = '\\nvoid draw() {\\n    background(128);\\n    ellipse(mouseX, mouseY, 10, 10);\\n}';\n",
       "    var cc = Processing.compile(processingCode);\n",
       "    var processingInstance = new Processing(\"canvas_1\", cc);\n",
       "});\n",
       "</script>\n"
      ],
      "text/plain": [
       "<IPython.core.display.HTML object>"
      ]
     },
     "metadata": {},
     "output_type": "display_data"
    }
   ],
   "source": [
    "%%processing\n",
    "\n",
    "void draw() {\n",
    "    background(128);\n",
    "    ellipse(mouseX, mouseY, 10, 10);\n",
    "}\n"
   ]
  },
  {
   "cell_type": "code",
   "execution_count": 8,
   "metadata": {
    "collapsed": false
   },
   "outputs": [
    {
     "data": {
      "text/html": [
       "\n",
       "<canvas id=\"canvas_2\"></canvas>\n",
       "<script>\n",
       "require([window.location.protocol + \"//calysto.github.io/javascripts/processing/processing.js\"], function () {\n",
       "    var processingCode = '\\nfloat diameter; \\nfloat angle = 0;\\n\\nvoid setup() {\\n  size(640, 360);\\n  diameter = height - 10;\\n  noStroke();\\n  noStroke();\\n  fill(255, 204, 0);\\n}\\n\\nvoid draw() {\\n  \\n  background(0);\\n\\n  float d1 = 10 + (sin(angle) * diameter/2) + diameter/2;\\n  float d2 = 10 + (sin(angle + PI/2) * diameter/2) + diameter/2;\\n  float d3 = 10 + (sin(angle + PI) * diameter/2) + diameter/2;\\n  \\n  ellipse(0, height/2, d1, d1);\\n  ellipse(width/2, height/2, d2, d2);\\n  ellipse(width, height/2, d3, d3);\\n  \\n  angle += 0.02;\\n}';\n",
       "    var cc = Processing.compile(processingCode);\n",
       "    var processingInstance = new Processing(\"canvas_2\", cc);\n",
       "});\n",
       "</script>\n"
      ],
      "text/plain": [
       "<IPython.core.display.HTML object>"
      ]
     },
     "metadata": {},
     "output_type": "display_data"
    }
   ],
   "source": [
    "%%processing\n",
    "\n",
    "float diameter; \n",
    "float angle = 0;\n",
    "\n",
    "void setup() {\n",
    "  size(640, 360);\n",
    "  diameter = height - 10;\n",
    "  noStroke();\n",
    "  noStroke();\n",
    "  fill(255, 204, 0);\n",
    "}\n",
    "\n",
    "void draw() {\n",
    "  \n",
    "  background(0);\n",
    "\n",
    "  float d1 = 10 + (sin(angle) * diameter/2) + diameter/2;\n",
    "  float d2 = 10 + (sin(angle + PI/2) * diameter/2) + diameter/2;\n",
    "  float d3 = 10 + (sin(angle + PI) * diameter/2) + diameter/2;\n",
    "  \n",
    "  ellipse(0, height/2, d1, d1);\n",
    "  ellipse(width/2, height/2, d2, d2);\n",
    "  ellipse(width, height/2, d3, d3);\n",
    "  \n",
    "  angle += 0.02;\n",
    "}\n"
   ]
  },
  {
   "cell_type": "code",
   "execution_count": 9,
   "metadata": {
    "collapsed": false,
    "scrolled": true
   },
   "outputs": [
    {
     "data": {
      "text/html": [
       "\n",
       "<canvas id=\"canvas_3\"></canvas>\n",
       "<script>\n",
       "require([window.location.protocol + \"//calysto.github.io/javascripts/processing/processing.js\"], function () {\n",
       "    var processingCode = \"\\n// Size of cells\\nint cellSize = 5;\\n\\n// How likely for a cell to be alive at start (in percentage)\\nfloat probabilityOfAliveAtStart = 15;\\n\\n// Variables for timer\\nint interval = 100;\\nint lastRecordedTime = 0;\\n\\n// Colors for active/inactive cells\\ncolor alive = color(0, 200, 0);\\ncolor dead = color(0);\\n\\n// Array of cells\\nint[][] cells; \\n// Buffer to record the state of the cells and use this while changing the others in the interations\\nint[][] cellsBuffer; \\n\\n// Pause\\nboolean pause = false;\\n\\nvoid setup() {\\n  size (640, 360);\\n\\n  // Instantiate arrays \\n  cells = new int[width/cellSize][height/cellSize];\\n  cellsBuffer = new int[width/cellSize][height/cellSize];\\n\\n  // This stroke will draw the background grid\\n  stroke(48);\\n\\n  noSmooth();\\n\\n  // Initialization of cells\\n  for (int x=0; x<width/cellSize; x++) {\\n    for (int y=0; y<height/cellSize; y++) {\\n      float state = random (100);\\n      if (state > probabilityOfAliveAtStart) { \\n        state = 0;\\n      }\\n      else {\\n        state = 1;\\n      }\\n      cells[x][y] = int(state); // Save state of each cell\\n    }\\n  }\\n  background(0); // Fill in black in case cells don't cover all the windows\\n}\\n\\n\\nvoid draw() {\\n\\n  //Draw grid\\n  for (int x=0; x<width/cellSize; x++) {\\n    for (int y=0; y<height/cellSize; y++) {\\n      if (cells[x][y]==1) {\\n        fill(alive); // If alive\\n      }\\n      else {\\n        fill(dead); // If dead\\n      }\\n      rect (x*cellSize, y*cellSize, cellSize, cellSize);\\n    }\\n  }\\n  // Iterate if timer ticks\\n  if (millis()-lastRecordedTime>interval) {\\n    if (!pause) {\\n      iteration();\\n      lastRecordedTime = millis();\\n    }\\n  }\\n\\n  // Create  new cells manually on pause\\n  if (pause && mousePressed) {\\n    // Map and avoid out of bound errors\\n    int xCellOver = int(map(mouseX, 0, width, 0, width/cellSize));\\n    xCellOver = constrain(xCellOver, 0, width/cellSize-1);\\n    int yCellOver = int(map(mouseY, 0, height, 0, height/cellSize));\\n    yCellOver = constrain(yCellOver, 0, height/cellSize-1);\\n\\n    // Check against cells in buffer\\n    if (cellsBuffer[xCellOver][yCellOver]==1) { // Cell is alive\\n      cells[xCellOver][yCellOver]=0; // Kill\\n      fill(dead); // Fill with kill color\\n    }\\n    else { // Cell is dead\\n      cells[xCellOver][yCellOver]=1; // Make alive\\n      fill(alive); // Fill alive color\\n    }\\n  } \\n  else if (pause && !mousePressed) { // And then save to buffer once mouse goes up\\n    // Save cells to buffer (so we opeate with one array keeping the other intact)\\n    for (int x=0; x<width/cellSize; x++) {\\n      for (int y=0; y<height/cellSize; y++) {\\n        cellsBuffer[x][y] = cells[x][y];\\n      }\\n    }\\n  }\\n}\\n\\n\\n\\nvoid iteration() { // When the clock ticks\\n  // Save cells to buffer (so we opeate with one array keeping the other intact)\\n  for (int x=0; x<width/cellSize; x++) {\\n    for (int y=0; y<height/cellSize; y++) {\\n      cellsBuffer[x][y] = cells[x][y];\\n    }\\n  }\\n\\n  // Visit each cell:\\n  for (int x=0; x<width/cellSize; x++) {\\n    for (int y=0; y<height/cellSize; y++) {\\n      // And visit all the neighbours of each cell\\n      int neighbours = 0; // We'll count the neighbours\\n      for (int xx=x-1; xx<=x+1;xx++) {\\n        for (int yy=y-1; yy<=y+1;yy++) {  \\n          if (((xx>=0)&&(xx<width/cellSize))&&((yy>=0)&&(yy<height/cellSize))) { // Make sure you are not out of bounds\\n            if (!((xx==x)&&(yy==y))) { // Make sure to to check against self\\n              if (cellsBuffer[xx][yy]==1){\\n                neighbours ++; // Check alive neighbours and count them\\n              }\\n            } // End of if\\n          } // End of if\\n        } // End of yy loop\\n      } //End of xx loop\\n      // We've checked the neigbours: apply rules!\\n      if (cellsBuffer[x][y]==1) { // The cell is alive: kill it if necessary\\n        if (neighbours < 2 || neighbours > 3) {\\n          cells[x][y] = 0; // Die unless it has 2 or 3 neighbours\\n        }\\n      } \\n      else { // The cell is dead: make it live if necessary      \\n        if (neighbours == 3 ) {\\n          cells[x][y] = 1; // Only if it has 3 neighbours\\n        }\\n      } // End of if\\n    } // End of y loop\\n  } // End of x loop\\n} // End of function\\n\\nvoid keyPressed() {\\n  if (key=='r' || key == 'R') {\\n    // Restart: reinitialization of cells\\n    for (int x=0; x<width/cellSize; x++) {\\n      for (int y=0; y<height/cellSize; y++) {\\n        float state = random (100);\\n        if (state > probabilityOfAliveAtStart) {\\n          state = 0;\\n        }\\n        else {\\n          state = 1;\\n        }\\n        cells[x][y] = int(state); // Save state of each cell\\n      }\\n    }\\n  }\\n  if (key==' ') { // On/off of pause\\n    pause = !pause;\\n  }\\n  if (key=='c' || key == 'C') { // Clear all\\n    for (int x=0; x<width/cellSize; x++) {\\n      for (int y=0; y<height/cellSize; y++) {\\n        cells[x][y] = 0; // Save all to zero\\n      }\\n    }\\n  }\\n}\\n\";\n",
       "    var cc = Processing.compile(processingCode);\n",
       "    var processingInstance = new Processing(\"canvas_3\", cc);\n",
       "});\n",
       "</script>\n"
      ],
      "text/plain": [
       "<IPython.core.display.HTML object>"
      ]
     },
     "metadata": {},
     "output_type": "display_data"
    }
   ],
   "source": [
    "%%processing\n",
    "\n",
    "// Size of cells\n",
    "int cellSize = 5;\n",
    "\n",
    "// How likely for a cell to be alive at start (in percentage)\n",
    "float probabilityOfAliveAtStart = 15;\n",
    "\n",
    "// Variables for timer\n",
    "int interval = 100;\n",
    "int lastRecordedTime = 0;\n",
    "\n",
    "// Colors for active/inactive cells\n",
    "color alive = color(0, 200, 0);\n",
    "color dead = color(0);\n",
    "\n",
    "// Array of cells\n",
    "int[][] cells; \n",
    "// Buffer to record the state of the cells and use this while changing the others in the interations\n",
    "int[][] cellsBuffer; \n",
    "\n",
    "// Pause\n",
    "boolean pause = false;\n",
    "\n",
    "void setup() {\n",
    "  size (640, 360);\n",
    "\n",
    "  // Instantiate arrays \n",
    "  cells = new int[width/cellSize][height/cellSize];\n",
    "  cellsBuffer = new int[width/cellSize][height/cellSize];\n",
    "\n",
    "  // This stroke will draw the background grid\n",
    "  stroke(48);\n",
    "\n",
    "  noSmooth();\n",
    "\n",
    "  // Initialization of cells\n",
    "  for (int x=0; x<width/cellSize; x++) {\n",
    "    for (int y=0; y<height/cellSize; y++) {\n",
    "      float state = random (100);\n",
    "      if (state > probabilityOfAliveAtStart) { \n",
    "        state = 0;\n",
    "      }\n",
    "      else {\n",
    "        state = 1;\n",
    "      }\n",
    "      cells[x][y] = int(state); // Save state of each cell\n",
    "    }\n",
    "  }\n",
    "  background(0); // Fill in black in case cells don't cover all the windows\n",
    "}\n",
    "\n",
    "\n",
    "void draw() {\n",
    "\n",
    "  //Draw grid\n",
    "  for (int x=0; x<width/cellSize; x++) {\n",
    "    for (int y=0; y<height/cellSize; y++) {\n",
    "      if (cells[x][y]==1) {\n",
    "        fill(alive); // If alive\n",
    "      }\n",
    "      else {\n",
    "        fill(dead); // If dead\n",
    "      }\n",
    "      rect (x*cellSize, y*cellSize, cellSize, cellSize);\n",
    "    }\n",
    "  }\n",
    "  // Iterate if timer ticks\n",
    "  if (millis()-lastRecordedTime>interval) {\n",
    "    if (!pause) {\n",
    "      iteration();\n",
    "      lastRecordedTime = millis();\n",
    "    }\n",
    "  }\n",
    "\n",
    "  // Create  new cells manually on pause\n",
    "  if (pause && mousePressed) {\n",
    "    // Map and avoid out of bound errors\n",
    "    int xCellOver = int(map(mouseX, 0, width, 0, width/cellSize));\n",
    "    xCellOver = constrain(xCellOver, 0, width/cellSize-1);\n",
    "    int yCellOver = int(map(mouseY, 0, height, 0, height/cellSize));\n",
    "    yCellOver = constrain(yCellOver, 0, height/cellSize-1);\n",
    "\n",
    "    // Check against cells in buffer\n",
    "    if (cellsBuffer[xCellOver][yCellOver]==1) { // Cell is alive\n",
    "      cells[xCellOver][yCellOver]=0; // Kill\n",
    "      fill(dead); // Fill with kill color\n",
    "    }\n",
    "    else { // Cell is dead\n",
    "      cells[xCellOver][yCellOver]=1; // Make alive\n",
    "      fill(alive); // Fill alive color\n",
    "    }\n",
    "  } \n",
    "  else if (pause && !mousePressed) { // And then save to buffer once mouse goes up\n",
    "    // Save cells to buffer (so we opeate with one array keeping the other intact)\n",
    "    for (int x=0; x<width/cellSize; x++) {\n",
    "      for (int y=0; y<height/cellSize; y++) {\n",
    "        cellsBuffer[x][y] = cells[x][y];\n",
    "      }\n",
    "    }\n",
    "  }\n",
    "}\n",
    "\n",
    "\n",
    "\n",
    "void iteration() { // When the clock ticks\n",
    "  // Save cells to buffer (so we opeate with one array keeping the other intact)\n",
    "  for (int x=0; x<width/cellSize; x++) {\n",
    "    for (int y=0; y<height/cellSize; y++) {\n",
    "      cellsBuffer[x][y] = cells[x][y];\n",
    "    }\n",
    "  }\n",
    "\n",
    "  // Visit each cell:\n",
    "  for (int x=0; x<width/cellSize; x++) {\n",
    "    for (int y=0; y<height/cellSize; y++) {\n",
    "      // And visit all the neighbours of each cell\n",
    "      int neighbours = 0; // We'll count the neighbours\n",
    "      for (int xx=x-1; xx<=x+1;xx++) {\n",
    "        for (int yy=y-1; yy<=y+1;yy++) {  \n",
    "          if (((xx>=0)&&(xx<width/cellSize))&&((yy>=0)&&(yy<height/cellSize))) { // Make sure you are not out of bounds\n",
    "            if (!((xx==x)&&(yy==y))) { // Make sure to to check against self\n",
    "              if (cellsBuffer[xx][yy]==1){\n",
    "                neighbours ++; // Check alive neighbours and count them\n",
    "              }\n",
    "            } // End of if\n",
    "          } // End of if\n",
    "        } // End of yy loop\n",
    "      } //End of xx loop\n",
    "      // We've checked the neigbours: apply rules!\n",
    "      if (cellsBuffer[x][y]==1) { // The cell is alive: kill it if necessary\n",
    "        if (neighbours < 2 || neighbours > 3) {\n",
    "          cells[x][y] = 0; // Die unless it has 2 or 3 neighbours\n",
    "        }\n",
    "      } \n",
    "      else { // The cell is dead: make it live if necessary      \n",
    "        if (neighbours == 3 ) {\n",
    "          cells[x][y] = 1; // Only if it has 3 neighbours\n",
    "        }\n",
    "      } // End of if\n",
    "    } // End of y loop\n",
    "  } // End of x loop\n",
    "} // End of function\n",
    "\n",
    "void keyPressed() {\n",
    "  if (key=='r' || key == 'R') {\n",
    "    // Restart: reinitialization of cells\n",
    "    for (int x=0; x<width/cellSize; x++) {\n",
    "      for (int y=0; y<height/cellSize; y++) {\n",
    "        float state = random (100);\n",
    "        if (state > probabilityOfAliveAtStart) {\n",
    "          state = 0;\n",
    "        }\n",
    "        else {\n",
    "          state = 1;\n",
    "        }\n",
    "        cells[x][y] = int(state); // Save state of each cell\n",
    "      }\n",
    "    }\n",
    "  }\n",
    "  if (key==' ') { // On/off of pause\n",
    "    pause = !pause;\n",
    "  }\n",
    "  if (key=='c' || key == 'C') { // Clear all\n",
    "    for (int x=0; x<width/cellSize; x++) {\n",
    "      for (int y=0; y<height/cellSize; y++) {\n",
    "        cells[x][y] = 0; // Save all to zero\n",
    "      }\n",
    "    }\n",
    "  }\n",
    "}\n",
    "\n"
   ]
  }
 ],
 "metadata": {
  "kernelspec": {
   "display_name": "Python 3",
   "language": "python",
   "name": "python3"
  },
  "language_info": {
   "codemirror_mode": {
    "name": "ipython",
    "version": 3
   },
   "file_extension": ".py",
   "mimetype": "text/x-python",
   "name": "python",
   "nbconvert_exporter": "python",
   "pygments_lexer": "ipython3",
   "version": "3.6.0"
  }
 },
 "nbformat": 4,
 "nbformat_minor": 2
}
